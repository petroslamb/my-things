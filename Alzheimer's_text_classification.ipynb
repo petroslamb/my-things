{
  "nbformat": 4,
  "nbformat_minor": 0,
  "metadata": {
    "colab": {
      "name": "Alzheimer's text classification.ipynb",
      "provenance": [],
      "machine_shape": "hm",
      "include_colab_link": true
    },
    "kernelspec": {
      "name": "python3",
      "display_name": "Python 3"
    },
    "widgets": {
      "application/vnd.jupyter.widget-state+json": {
        "ae76753485d4476a9c3e45d1eafff3e0": {
          "model_module": "@jupyter-widgets/controls",
          "model_name": "HBoxModel",
          "state": {
            "_view_name": "HBoxView",
            "_dom_classes": [],
            "_model_name": "HBoxModel",
            "_view_module": "@jupyter-widgets/controls",
            "_model_module_version": "1.5.0",
            "_view_count": null,
            "_view_module_version": "1.5.0",
            "box_style": "",
            "layout": "IPY_MODEL_69891a56516a4b8da857c1dfd3dfc108",
            "_model_module": "@jupyter-widgets/controls",
            "children": [
              "IPY_MODEL_dd42dbcd604d419291df1bf22ac780ae",
              "IPY_MODEL_6ac527a0cc964eeda664c413977e9be1"
            ]
          }
        },
        "69891a56516a4b8da857c1dfd3dfc108": {
          "model_module": "@jupyter-widgets/base",
          "model_name": "LayoutModel",
          "state": {
            "_view_name": "LayoutView",
            "grid_template_rows": null,
            "right": null,
            "justify_content": null,
            "_view_module": "@jupyter-widgets/base",
            "overflow": null,
            "_model_module_version": "1.2.0",
            "_view_count": null,
            "flex_flow": null,
            "width": null,
            "min_width": null,
            "border": null,
            "align_items": null,
            "bottom": null,
            "_model_module": "@jupyter-widgets/base",
            "top": null,
            "grid_column": null,
            "overflow_y": null,
            "overflow_x": null,
            "grid_auto_flow": null,
            "grid_area": null,
            "grid_template_columns": null,
            "flex": null,
            "_model_name": "LayoutModel",
            "justify_items": null,
            "grid_row": null,
            "max_height": null,
            "align_content": null,
            "visibility": null,
            "align_self": null,
            "height": null,
            "min_height": null,
            "padding": null,
            "grid_auto_rows": null,
            "grid_gap": null,
            "max_width": null,
            "order": null,
            "_view_module_version": "1.2.0",
            "grid_template_areas": null,
            "object_position": null,
            "object_fit": null,
            "grid_auto_columns": null,
            "margin": null,
            "display": null,
            "left": null
          }
        },
        "dd42dbcd604d419291df1bf22ac780ae": {
          "model_module": "@jupyter-widgets/controls",
          "model_name": "IntProgressModel",
          "state": {
            "_view_name": "ProgressView",
            "style": "IPY_MODEL_63d0bc56232d4b60b7d417dcd40988a4",
            "_dom_classes": [],
            "description": "Downloading",
            "_model_name": "IntProgressModel",
            "bar_style": "success",
            "max": 231508,
            "_view_module": "@jupyter-widgets/controls",
            "_model_module_version": "1.5.0",
            "value": 231508,
            "_view_count": null,
            "_view_module_version": "1.5.0",
            "orientation": "horizontal",
            "min": 0,
            "description_tooltip": null,
            "_model_module": "@jupyter-widgets/controls",
            "layout": "IPY_MODEL_9f49646c30b9435fb97dd718c14d6e50"
          }
        },
        "6ac527a0cc964eeda664c413977e9be1": {
          "model_module": "@jupyter-widgets/controls",
          "model_name": "HTMLModel",
          "state": {
            "_view_name": "HTMLView",
            "style": "IPY_MODEL_c257d181473c4bac80d6a477a226b715",
            "_dom_classes": [],
            "description": "",
            "_model_name": "HTMLModel",
            "placeholder": "​",
            "_view_module": "@jupyter-widgets/controls",
            "_model_module_version": "1.5.0",
            "value": "100% 232k/232k [00:00&lt;00:00, 2.60MB/s]",
            "_view_count": null,
            "_view_module_version": "1.5.0",
            "description_tooltip": null,
            "_model_module": "@jupyter-widgets/controls",
            "layout": "IPY_MODEL_08374b1ddc0e49c89d15cb8706dc44be"
          }
        },
        "63d0bc56232d4b60b7d417dcd40988a4": {
          "model_module": "@jupyter-widgets/controls",
          "model_name": "ProgressStyleModel",
          "state": {
            "_view_name": "StyleView",
            "_model_name": "ProgressStyleModel",
            "description_width": "initial",
            "_view_module": "@jupyter-widgets/base",
            "_model_module_version": "1.5.0",
            "_view_count": null,
            "_view_module_version": "1.2.0",
            "bar_color": null,
            "_model_module": "@jupyter-widgets/controls"
          }
        },
        "9f49646c30b9435fb97dd718c14d6e50": {
          "model_module": "@jupyter-widgets/base",
          "model_name": "LayoutModel",
          "state": {
            "_view_name": "LayoutView",
            "grid_template_rows": null,
            "right": null,
            "justify_content": null,
            "_view_module": "@jupyter-widgets/base",
            "overflow": null,
            "_model_module_version": "1.2.0",
            "_view_count": null,
            "flex_flow": null,
            "width": null,
            "min_width": null,
            "border": null,
            "align_items": null,
            "bottom": null,
            "_model_module": "@jupyter-widgets/base",
            "top": null,
            "grid_column": null,
            "overflow_y": null,
            "overflow_x": null,
            "grid_auto_flow": null,
            "grid_area": null,
            "grid_template_columns": null,
            "flex": null,
            "_model_name": "LayoutModel",
            "justify_items": null,
            "grid_row": null,
            "max_height": null,
            "align_content": null,
            "visibility": null,
            "align_self": null,
            "height": null,
            "min_height": null,
            "padding": null,
            "grid_auto_rows": null,
            "grid_gap": null,
            "max_width": null,
            "order": null,
            "_view_module_version": "1.2.0",
            "grid_template_areas": null,
            "object_position": null,
            "object_fit": null,
            "grid_auto_columns": null,
            "margin": null,
            "display": null,
            "left": null
          }
        },
        "c257d181473c4bac80d6a477a226b715": {
          "model_module": "@jupyter-widgets/controls",
          "model_name": "DescriptionStyleModel",
          "state": {
            "_view_name": "StyleView",
            "_model_name": "DescriptionStyleModel",
            "description_width": "",
            "_view_module": "@jupyter-widgets/base",
            "_model_module_version": "1.5.0",
            "_view_count": null,
            "_view_module_version": "1.2.0",
            "_model_module": "@jupyter-widgets/controls"
          }
        },
        "08374b1ddc0e49c89d15cb8706dc44be": {
          "model_module": "@jupyter-widgets/base",
          "model_name": "LayoutModel",
          "state": {
            "_view_name": "LayoutView",
            "grid_template_rows": null,
            "right": null,
            "justify_content": null,
            "_view_module": "@jupyter-widgets/base",
            "overflow": null,
            "_model_module_version": "1.2.0",
            "_view_count": null,
            "flex_flow": null,
            "width": null,
            "min_width": null,
            "border": null,
            "align_items": null,
            "bottom": null,
            "_model_module": "@jupyter-widgets/base",
            "top": null,
            "grid_column": null,
            "overflow_y": null,
            "overflow_x": null,
            "grid_auto_flow": null,
            "grid_area": null,
            "grid_template_columns": null,
            "flex": null,
            "_model_name": "LayoutModel",
            "justify_items": null,
            "grid_row": null,
            "max_height": null,
            "align_content": null,
            "visibility": null,
            "align_self": null,
            "height": null,
            "min_height": null,
            "padding": null,
            "grid_auto_rows": null,
            "grid_gap": null,
            "max_width": null,
            "order": null,
            "_view_module_version": "1.2.0",
            "grid_template_areas": null,
            "object_position": null,
            "object_fit": null,
            "grid_auto_columns": null,
            "margin": null,
            "display": null,
            "left": null
          }
        },
        "46aab3adf1fe4b29a67dd7c3a2510936": {
          "model_module": "@jupyter-widgets/controls",
          "model_name": "HBoxModel",
          "state": {
            "_view_name": "HBoxView",
            "_dom_classes": [],
            "_model_name": "HBoxModel",
            "_view_module": "@jupyter-widgets/controls",
            "_model_module_version": "1.5.0",
            "_view_count": null,
            "_view_module_version": "1.5.0",
            "box_style": "",
            "layout": "IPY_MODEL_730951b0665c4351a8c6ea90cc920222",
            "_model_module": "@jupyter-widgets/controls",
            "children": [
              "IPY_MODEL_36ff95f18e9845af98f80435c6f7ff33",
              "IPY_MODEL_3d426fed81c84e97af4a0e468c387d82"
            ]
          }
        },
        "730951b0665c4351a8c6ea90cc920222": {
          "model_module": "@jupyter-widgets/base",
          "model_name": "LayoutModel",
          "state": {
            "_view_name": "LayoutView",
            "grid_template_rows": null,
            "right": null,
            "justify_content": null,
            "_view_module": "@jupyter-widgets/base",
            "overflow": null,
            "_model_module_version": "1.2.0",
            "_view_count": null,
            "flex_flow": null,
            "width": null,
            "min_width": null,
            "border": null,
            "align_items": null,
            "bottom": null,
            "_model_module": "@jupyter-widgets/base",
            "top": null,
            "grid_column": null,
            "overflow_y": null,
            "overflow_x": null,
            "grid_auto_flow": null,
            "grid_area": null,
            "grid_template_columns": null,
            "flex": null,
            "_model_name": "LayoutModel",
            "justify_items": null,
            "grid_row": null,
            "max_height": null,
            "align_content": null,
            "visibility": null,
            "align_self": null,
            "height": null,
            "min_height": null,
            "padding": null,
            "grid_auto_rows": null,
            "grid_gap": null,
            "max_width": null,
            "order": null,
            "_view_module_version": "1.2.0",
            "grid_template_areas": null,
            "object_position": null,
            "object_fit": null,
            "grid_auto_columns": null,
            "margin": null,
            "display": null,
            "left": null
          }
        },
        "36ff95f18e9845af98f80435c6f7ff33": {
          "model_module": "@jupyter-widgets/controls",
          "model_name": "IntProgressModel",
          "state": {
            "_view_name": "ProgressView",
            "style": "IPY_MODEL_4ed82c627db6425c937611968fd73321",
            "_dom_classes": [],
            "description": "Downloading",
            "_model_name": "IntProgressModel",
            "bar_style": "success",
            "max": 546,
            "_view_module": "@jupyter-widgets/controls",
            "_model_module_version": "1.5.0",
            "value": 546,
            "_view_count": null,
            "_view_module_version": "1.5.0",
            "orientation": "horizontal",
            "min": 0,
            "description_tooltip": null,
            "_model_module": "@jupyter-widgets/controls",
            "layout": "IPY_MODEL_5cf51a8751d2474482d3f9d5d323f226"
          }
        },
        "3d426fed81c84e97af4a0e468c387d82": {
          "model_module": "@jupyter-widgets/controls",
          "model_name": "HTMLModel",
          "state": {
            "_view_name": "HTMLView",
            "style": "IPY_MODEL_34ec65d95a944e9cbc141004d80035fa",
            "_dom_classes": [],
            "description": "",
            "_model_name": "HTMLModel",
            "placeholder": "​",
            "_view_module": "@jupyter-widgets/controls",
            "_model_module_version": "1.5.0",
            "value": "100% 546/546 [00:00&lt;00:00, 26.4kB/s]",
            "_view_count": null,
            "_view_module_version": "1.5.0",
            "description_tooltip": null,
            "_model_module": "@jupyter-widgets/controls",
            "layout": "IPY_MODEL_f037181761474dab8bf06040f556bfbc"
          }
        },
        "4ed82c627db6425c937611968fd73321": {
          "model_module": "@jupyter-widgets/controls",
          "model_name": "ProgressStyleModel",
          "state": {
            "_view_name": "StyleView",
            "_model_name": "ProgressStyleModel",
            "description_width": "initial",
            "_view_module": "@jupyter-widgets/base",
            "_model_module_version": "1.5.0",
            "_view_count": null,
            "_view_module_version": "1.2.0",
            "bar_color": null,
            "_model_module": "@jupyter-widgets/controls"
          }
        },
        "5cf51a8751d2474482d3f9d5d323f226": {
          "model_module": "@jupyter-widgets/base",
          "model_name": "LayoutModel",
          "state": {
            "_view_name": "LayoutView",
            "grid_template_rows": null,
            "right": null,
            "justify_content": null,
            "_view_module": "@jupyter-widgets/base",
            "overflow": null,
            "_model_module_version": "1.2.0",
            "_view_count": null,
            "flex_flow": null,
            "width": null,
            "min_width": null,
            "border": null,
            "align_items": null,
            "bottom": null,
            "_model_module": "@jupyter-widgets/base",
            "top": null,
            "grid_column": null,
            "overflow_y": null,
            "overflow_x": null,
            "grid_auto_flow": null,
            "grid_area": null,
            "grid_template_columns": null,
            "flex": null,
            "_model_name": "LayoutModel",
            "justify_items": null,
            "grid_row": null,
            "max_height": null,
            "align_content": null,
            "visibility": null,
            "align_self": null,
            "height": null,
            "min_height": null,
            "padding": null,
            "grid_auto_rows": null,
            "grid_gap": null,
            "max_width": null,
            "order": null,
            "_view_module_version": "1.2.0",
            "grid_template_areas": null,
            "object_position": null,
            "object_fit": null,
            "grid_auto_columns": null,
            "margin": null,
            "display": null,
            "left": null
          }
        },
        "34ec65d95a944e9cbc141004d80035fa": {
          "model_module": "@jupyter-widgets/controls",
          "model_name": "DescriptionStyleModel",
          "state": {
            "_view_name": "StyleView",
            "_model_name": "DescriptionStyleModel",
            "description_width": "",
            "_view_module": "@jupyter-widgets/base",
            "_model_module_version": "1.5.0",
            "_view_count": null,
            "_view_module_version": "1.2.0",
            "_model_module": "@jupyter-widgets/controls"
          }
        },
        "f037181761474dab8bf06040f556bfbc": {
          "model_module": "@jupyter-widgets/base",
          "model_name": "LayoutModel",
          "state": {
            "_view_name": "LayoutView",
            "grid_template_rows": null,
            "right": null,
            "justify_content": null,
            "_view_module": "@jupyter-widgets/base",
            "overflow": null,
            "_model_module_version": "1.2.0",
            "_view_count": null,
            "flex_flow": null,
            "width": null,
            "min_width": null,
            "border": null,
            "align_items": null,
            "bottom": null,
            "_model_module": "@jupyter-widgets/base",
            "top": null,
            "grid_column": null,
            "overflow_y": null,
            "overflow_x": null,
            "grid_auto_flow": null,
            "grid_area": null,
            "grid_template_columns": null,
            "flex": null,
            "_model_name": "LayoutModel",
            "justify_items": null,
            "grid_row": null,
            "max_height": null,
            "align_content": null,
            "visibility": null,
            "align_self": null,
            "height": null,
            "min_height": null,
            "padding": null,
            "grid_auto_rows": null,
            "grid_gap": null,
            "max_width": null,
            "order": null,
            "_view_module_version": "1.2.0",
            "grid_template_areas": null,
            "object_position": null,
            "object_fit": null,
            "grid_auto_columns": null,
            "margin": null,
            "display": null,
            "left": null
          }
        },
        "2c04fab4dbe546b993aa601a4382169f": {
          "model_module": "@jupyter-widgets/controls",
          "model_name": "HBoxModel",
          "state": {
            "_view_name": "HBoxView",
            "_dom_classes": [],
            "_model_name": "HBoxModel",
            "_view_module": "@jupyter-widgets/controls",
            "_model_module_version": "1.5.0",
            "_view_count": null,
            "_view_module_version": "1.5.0",
            "box_style": "",
            "layout": "IPY_MODEL_b17875957d854245aec23730fd46b168",
            "_model_module": "@jupyter-widgets/controls",
            "children": [
              "IPY_MODEL_2bd5bb3397074280aea2a0c17902a33a",
              "IPY_MODEL_2efc747c0ab1419e9a78919cb085456e"
            ]
          }
        },
        "b17875957d854245aec23730fd46b168": {
          "model_module": "@jupyter-widgets/base",
          "model_name": "LayoutModel",
          "state": {
            "_view_name": "LayoutView",
            "grid_template_rows": null,
            "right": null,
            "justify_content": null,
            "_view_module": "@jupyter-widgets/base",
            "overflow": null,
            "_model_module_version": "1.2.0",
            "_view_count": null,
            "flex_flow": null,
            "width": null,
            "min_width": null,
            "border": null,
            "align_items": null,
            "bottom": null,
            "_model_module": "@jupyter-widgets/base",
            "top": null,
            "grid_column": null,
            "overflow_y": null,
            "overflow_x": null,
            "grid_auto_flow": null,
            "grid_area": null,
            "grid_template_columns": null,
            "flex": null,
            "_model_name": "LayoutModel",
            "justify_items": null,
            "grid_row": null,
            "max_height": null,
            "align_content": null,
            "visibility": null,
            "align_self": null,
            "height": null,
            "min_height": null,
            "padding": null,
            "grid_auto_rows": null,
            "grid_gap": null,
            "max_width": null,
            "order": null,
            "_view_module_version": "1.2.0",
            "grid_template_areas": null,
            "object_position": null,
            "object_fit": null,
            "grid_auto_columns": null,
            "margin": null,
            "display": null,
            "left": null
          }
        },
        "2bd5bb3397074280aea2a0c17902a33a": {
          "model_module": "@jupyter-widgets/controls",
          "model_name": "IntProgressModel",
          "state": {
            "_view_name": "ProgressView",
            "style": "IPY_MODEL_eb3429c52d5640918b5b649b4353c388",
            "_dom_classes": [],
            "description": "Downloading",
            "_model_name": "IntProgressModel",
            "bar_style": "success",
            "max": 267967963,
            "_view_module": "@jupyter-widgets/controls",
            "_model_module_version": "1.5.0",
            "value": 267967963,
            "_view_count": null,
            "_view_module_version": "1.5.0",
            "orientation": "horizontal",
            "min": 0,
            "description_tooltip": null,
            "_model_module": "@jupyter-widgets/controls",
            "layout": "IPY_MODEL_4d09b5745e254f07a7f938a3fc5c474b"
          }
        },
        "2efc747c0ab1419e9a78919cb085456e": {
          "model_module": "@jupyter-widgets/controls",
          "model_name": "HTMLModel",
          "state": {
            "_view_name": "HTMLView",
            "style": "IPY_MODEL_7882a14e00be48adb3dae130f675f771",
            "_dom_classes": [],
            "description": "",
            "_model_name": "HTMLModel",
            "placeholder": "​",
            "_view_module": "@jupyter-widgets/controls",
            "_model_module_version": "1.5.0",
            "value": "100% 268M/268M [00:04&lt;00:00, 58.9MB/s]",
            "_view_count": null,
            "_view_module_version": "1.5.0",
            "description_tooltip": null,
            "_model_module": "@jupyter-widgets/controls",
            "layout": "IPY_MODEL_6a014957c2ef4fbba33531b88d2e3d1d"
          }
        },
        "eb3429c52d5640918b5b649b4353c388": {
          "model_module": "@jupyter-widgets/controls",
          "model_name": "ProgressStyleModel",
          "state": {
            "_view_name": "StyleView",
            "_model_name": "ProgressStyleModel",
            "description_width": "initial",
            "_view_module": "@jupyter-widgets/base",
            "_model_module_version": "1.5.0",
            "_view_count": null,
            "_view_module_version": "1.2.0",
            "bar_color": null,
            "_model_module": "@jupyter-widgets/controls"
          }
        },
        "4d09b5745e254f07a7f938a3fc5c474b": {
          "model_module": "@jupyter-widgets/base",
          "model_name": "LayoutModel",
          "state": {
            "_view_name": "LayoutView",
            "grid_template_rows": null,
            "right": null,
            "justify_content": null,
            "_view_module": "@jupyter-widgets/base",
            "overflow": null,
            "_model_module_version": "1.2.0",
            "_view_count": null,
            "flex_flow": null,
            "width": null,
            "min_width": null,
            "border": null,
            "align_items": null,
            "bottom": null,
            "_model_module": "@jupyter-widgets/base",
            "top": null,
            "grid_column": null,
            "overflow_y": null,
            "overflow_x": null,
            "grid_auto_flow": null,
            "grid_area": null,
            "grid_template_columns": null,
            "flex": null,
            "_model_name": "LayoutModel",
            "justify_items": null,
            "grid_row": null,
            "max_height": null,
            "align_content": null,
            "visibility": null,
            "align_self": null,
            "height": null,
            "min_height": null,
            "padding": null,
            "grid_auto_rows": null,
            "grid_gap": null,
            "max_width": null,
            "order": null,
            "_view_module_version": "1.2.0",
            "grid_template_areas": null,
            "object_position": null,
            "object_fit": null,
            "grid_auto_columns": null,
            "margin": null,
            "display": null,
            "left": null
          }
        },
        "7882a14e00be48adb3dae130f675f771": {
          "model_module": "@jupyter-widgets/controls",
          "model_name": "DescriptionStyleModel",
          "state": {
            "_view_name": "StyleView",
            "_model_name": "DescriptionStyleModel",
            "description_width": "",
            "_view_module": "@jupyter-widgets/base",
            "_model_module_version": "1.5.0",
            "_view_count": null,
            "_view_module_version": "1.2.0",
            "_model_module": "@jupyter-widgets/controls"
          }
        },
        "6a014957c2ef4fbba33531b88d2e3d1d": {
          "model_module": "@jupyter-widgets/base",
          "model_name": "LayoutModel",
          "state": {
            "_view_name": "LayoutView",
            "grid_template_rows": null,
            "right": null,
            "justify_content": null,
            "_view_module": "@jupyter-widgets/base",
            "overflow": null,
            "_model_module_version": "1.2.0",
            "_view_count": null,
            "flex_flow": null,
            "width": null,
            "min_width": null,
            "border": null,
            "align_items": null,
            "bottom": null,
            "_model_module": "@jupyter-widgets/base",
            "top": null,
            "grid_column": null,
            "overflow_y": null,
            "overflow_x": null,
            "grid_auto_flow": null,
            "grid_area": null,
            "grid_template_columns": null,
            "flex": null,
            "_model_name": "LayoutModel",
            "justify_items": null,
            "grid_row": null,
            "max_height": null,
            "align_content": null,
            "visibility": null,
            "align_self": null,
            "height": null,
            "min_height": null,
            "padding": null,
            "grid_auto_rows": null,
            "grid_gap": null,
            "max_width": null,
            "order": null,
            "_view_module_version": "1.2.0",
            "grid_template_areas": null,
            "object_position": null,
            "object_fit": null,
            "grid_auto_columns": null,
            "margin": null,
            "display": null,
            "left": null
          }
        }
      }
    }
  },
  "cells": [
    {
      "cell_type": "markdown",
      "metadata": {
        "id": "view-in-github",
        "colab_type": "text"
      },
      "source": [
        "<a href=\"https://colab.research.google.com/github/petroslamb/my-things/blob/master/Alzheimer's_text_classification.ipynb\" target=\"_parent\"><img src=\"https://colab.research.google.com/assets/colab-badge.svg\" alt=\"Open In Colab\"/></a>"
      ]
    },
    {
      "cell_type": "markdown",
      "metadata": {
        "id": "iI2kPze0gCqZ",
        "colab_type": "text"
      },
      "source": [
        "*Part of this notebook is based on work from Jay Alammar*"
      ]
    },
    {
      "cell_type": "code",
      "metadata": {
        "colab_type": "code",
        "outputId": "b25c55ca-ca82-4bf8-f9ba-e6bdd51fe104",
        "id": "EDPfEuJ1gCUM",
        "colab": {
          "base_uri": "https://localhost:8080/",
          "height": 671
        }
      },
      "source": [
        "!pip install transformers"
      ],
      "execution_count": 1,
      "outputs": [
        {
          "output_type": "stream",
          "text": [
            "Collecting transformers\n",
            "\u001b[?25l  Downloading https://files.pythonhosted.org/packages/13/33/ffb67897a6985a7b7d8e5e7878c3628678f553634bd3836404fef06ef19b/transformers-2.5.1-py3-none-any.whl (499kB)\n",
            "\r\u001b[K     |▋                               | 10kB 16.5MB/s eta 0:00:01\r\u001b[K     |█▎                              | 20kB 2.2MB/s eta 0:00:01\r\u001b[K     |██                              | 30kB 3.2MB/s eta 0:00:01\r\u001b[K     |██▋                             | 40kB 2.1MB/s eta 0:00:01\r\u001b[K     |███▎                            | 51kB 2.6MB/s eta 0:00:01\r\u001b[K     |████                            | 61kB 3.1MB/s eta 0:00:01\r\u001b[K     |████▋                           | 71kB 3.6MB/s eta 0:00:01\r\u001b[K     |█████▎                          | 81kB 4.0MB/s eta 0:00:01\r\u001b[K     |██████                          | 92kB 4.5MB/s eta 0:00:01\r\u001b[K     |██████▋                         | 102kB 3.4MB/s eta 0:00:01\r\u001b[K     |███████▏                        | 112kB 3.4MB/s eta 0:00:01\r\u001b[K     |███████▉                        | 122kB 3.4MB/s eta 0:00:01\r\u001b[K     |████████▌                       | 133kB 3.4MB/s eta 0:00:01\r\u001b[K     |█████████▏                      | 143kB 3.4MB/s eta 0:00:01\r\u001b[K     |█████████▉                      | 153kB 3.4MB/s eta 0:00:01\r\u001b[K     |██████████▌                     | 163kB 3.4MB/s eta 0:00:01\r\u001b[K     |███████████▏                    | 174kB 3.4MB/s eta 0:00:01\r\u001b[K     |███████████▉                    | 184kB 3.4MB/s eta 0:00:01\r\u001b[K     |████████████▌                   | 194kB 3.4MB/s eta 0:00:01\r\u001b[K     |█████████████▏                  | 204kB 3.4MB/s eta 0:00:01\r\u001b[K     |█████████████▉                  | 215kB 3.4MB/s eta 0:00:01\r\u001b[K     |██████████████▍                 | 225kB 3.4MB/s eta 0:00:01\r\u001b[K     |███████████████                 | 235kB 3.4MB/s eta 0:00:01\r\u001b[K     |███████████████▊                | 245kB 3.4MB/s eta 0:00:01\r\u001b[K     |████████████████▍               | 256kB 3.4MB/s eta 0:00:01\r\u001b[K     |█████████████████               | 266kB 3.4MB/s eta 0:00:01\r\u001b[K     |█████████████████▊              | 276kB 3.4MB/s eta 0:00:01\r\u001b[K     |██████████████████▍             | 286kB 3.4MB/s eta 0:00:01\r\u001b[K     |███████████████████             | 296kB 3.4MB/s eta 0:00:01\r\u001b[K     |███████████████████▊            | 307kB 3.4MB/s eta 0:00:01\r\u001b[K     |████████████████████▍           | 317kB 3.4MB/s eta 0:00:01\r\u001b[K     |█████████████████████           | 327kB 3.4MB/s eta 0:00:01\r\u001b[K     |█████████████████████▋          | 337kB 3.4MB/s eta 0:00:01\r\u001b[K     |██████████████████████▎         | 348kB 3.4MB/s eta 0:00:01\r\u001b[K     |███████████████████████         | 358kB 3.4MB/s eta 0:00:01\r\u001b[K     |███████████████████████▋        | 368kB 3.4MB/s eta 0:00:01\r\u001b[K     |████████████████████████▎       | 378kB 3.4MB/s eta 0:00:01\r\u001b[K     |█████████████████████████       | 389kB 3.4MB/s eta 0:00:01\r\u001b[K     |█████████████████████████▋      | 399kB 3.4MB/s eta 0:00:01\r\u001b[K     |██████████████████████████▎     | 409kB 3.4MB/s eta 0:00:01\r\u001b[K     |███████████████████████████     | 419kB 3.4MB/s eta 0:00:01\r\u001b[K     |███████████████████████████▋    | 430kB 3.4MB/s eta 0:00:01\r\u001b[K     |████████████████████████████▏   | 440kB 3.4MB/s eta 0:00:01\r\u001b[K     |████████████████████████████▉   | 450kB 3.4MB/s eta 0:00:01\r\u001b[K     |█████████████████████████████▌  | 460kB 3.4MB/s eta 0:00:01\r\u001b[K     |██████████████████████████████▏ | 471kB 3.4MB/s eta 0:00:01\r\u001b[K     |██████████████████████████████▉ | 481kB 3.4MB/s eta 0:00:01\r\u001b[K     |███████████████████████████████▌| 491kB 3.4MB/s eta 0:00:01\r\u001b[K     |████████████████████████████████| 501kB 3.4MB/s \n",
            "\u001b[?25hRequirement already satisfied: regex!=2019.12.17 in /usr/local/lib/python3.6/dist-packages (from transformers) (2019.12.20)\n",
            "Requirement already satisfied: requests in /usr/local/lib/python3.6/dist-packages (from transformers) (2.21.0)\n",
            "Requirement already satisfied: boto3 in /usr/local/lib/python3.6/dist-packages (from transformers) (1.11.15)\n",
            "Collecting sacremoses\n",
            "\u001b[?25l  Downloading https://files.pythonhosted.org/packages/a6/b4/7a41d630547a4afd58143597d5a49e07bfd4c42914d8335b2a5657efc14b/sacremoses-0.0.38.tar.gz (860kB)\n",
            "\u001b[K     |████████████████████████████████| 870kB 62.4MB/s \n",
            "\u001b[?25hRequirement already satisfied: tqdm>=4.27 in /usr/local/lib/python3.6/dist-packages (from transformers) (4.28.1)\n",
            "Collecting tokenizers==0.5.2\n",
            "\u001b[?25l  Downloading https://files.pythonhosted.org/packages/d1/3f/73c881ea4723e43c1e9acf317cf407fab3a278daab3a69c98dcac511c04f/tokenizers-0.5.2-cp36-cp36m-manylinux1_x86_64.whl (3.7MB)\n",
            "\u001b[K     |████████████████████████████████| 3.7MB 40.7MB/s \n",
            "\u001b[?25hRequirement already satisfied: numpy in /usr/local/lib/python3.6/dist-packages (from transformers) (1.17.5)\n",
            "Collecting sentencepiece\n",
            "\u001b[?25l  Downloading https://files.pythonhosted.org/packages/74/f4/2d5214cbf13d06e7cb2c20d84115ca25b53ea76fa1f0ade0e3c9749de214/sentencepiece-0.1.85-cp36-cp36m-manylinux1_x86_64.whl (1.0MB)\n",
            "\u001b[K     |████████████████████████████████| 1.0MB 42.6MB/s \n",
            "\u001b[?25hRequirement already satisfied: filelock in /usr/local/lib/python3.6/dist-packages (from transformers) (3.0.12)\n",
            "Requirement already satisfied: chardet<3.1.0,>=3.0.2 in /usr/local/lib/python3.6/dist-packages (from requests->transformers) (3.0.4)\n",
            "Requirement already satisfied: urllib3<1.25,>=1.21.1 in /usr/local/lib/python3.6/dist-packages (from requests->transformers) (1.24.3)\n",
            "Requirement already satisfied: certifi>=2017.4.17 in /usr/local/lib/python3.6/dist-packages (from requests->transformers) (2019.11.28)\n",
            "Requirement already satisfied: idna<2.9,>=2.5 in /usr/local/lib/python3.6/dist-packages (from requests->transformers) (2.8)\n",
            "Requirement already satisfied: s3transfer<0.4.0,>=0.3.0 in /usr/local/lib/python3.6/dist-packages (from boto3->transformers) (0.3.3)\n",
            "Requirement already satisfied: botocore<1.15.0,>=1.14.15 in /usr/local/lib/python3.6/dist-packages (from boto3->transformers) (1.14.15)\n",
            "Requirement already satisfied: jmespath<1.0.0,>=0.7.1 in /usr/local/lib/python3.6/dist-packages (from boto3->transformers) (0.9.4)\n",
            "Requirement already satisfied: six in /usr/local/lib/python3.6/dist-packages (from sacremoses->transformers) (1.12.0)\n",
            "Requirement already satisfied: click in /usr/local/lib/python3.6/dist-packages (from sacremoses->transformers) (7.0)\n",
            "Requirement already satisfied: joblib in /usr/local/lib/python3.6/dist-packages (from sacremoses->transformers) (0.14.1)\n",
            "Requirement already satisfied: docutils<0.16,>=0.10 in /usr/local/lib/python3.6/dist-packages (from botocore<1.15.0,>=1.14.15->boto3->transformers) (0.15.2)\n",
            "Requirement already satisfied: python-dateutil<3.0.0,>=2.1 in /usr/local/lib/python3.6/dist-packages (from botocore<1.15.0,>=1.14.15->boto3->transformers) (2.6.1)\n",
            "Building wheels for collected packages: sacremoses\n",
            "  Building wheel for sacremoses (setup.py) ... \u001b[?25l\u001b[?25hdone\n",
            "  Created wheel for sacremoses: filename=sacremoses-0.0.38-cp36-none-any.whl size=884628 sha256=6936e30b5d75a87419adf243f7b0c589a0b227a2ccb1663165a5f360fa092c61\n",
            "  Stored in directory: /root/.cache/pip/wheels/6d/ec/1a/21b8912e35e02741306f35f66c785f3afe94de754a0eaf1422\n",
            "Successfully built sacremoses\n",
            "Installing collected packages: sacremoses, tokenizers, sentencepiece, transformers\n",
            "Successfully installed sacremoses-0.0.38 sentencepiece-0.1.85 tokenizers-0.5.2 transformers-2.5.1\n"
          ],
          "name": "stdout"
        }
      ]
    },
    {
      "cell_type": "code",
      "metadata": {
        "colab_type": "code",
        "outputId": "076b351a-8944-4328-b089-fbeb3e07f974",
        "id": "9rwFULfCgCUE",
        "colab": {
          "base_uri": "https://localhost:8080/",
          "height": 80
        }
      },
      "source": [
        "import numpy as np\n",
        "import pandas as pd\n",
        "from sklearn.model_selection import train_test_split\n",
        "from sklearn.linear_model import LogisticRegression\n",
        "from sklearn.model_selection import GridSearchCV\n",
        "from sklearn.model_selection import cross_val_score\n",
        "import torch\n",
        "import transformers as ppb\n",
        "import warnings\n",
        "warnings.filterwarnings('ignore')"
      ],
      "execution_count": 2,
      "outputs": [
        {
          "output_type": "display_data",
          "data": {
            "text/html": [
              "<p style=\"color: red;\">\n",
              "The default version of TensorFlow in Colab will soon switch to TensorFlow 2.x.<br>\n",
              "We recommend you <a href=\"https://www.tensorflow.org/guide/migrate\" target=\"_blank\">upgrade</a> now \n",
              "or ensure your notebook will continue to use TensorFlow 1.x via the <code>%tensorflow_version 1.x</code> magic:\n",
              "<a href=\"https://colab.research.google.com/notebooks/tensorflow_version.ipynb\" target=\"_blank\">more info</a>.</p>\n"
            ],
            "text/plain": [
              "<IPython.core.display.HTML object>"
            ]
          },
          "metadata": {
            "tags": []
          }
        }
      ]
    },
    {
      "cell_type": "markdown",
      "metadata": {
        "colab_type": "text",
        "id": "0smP9eXMgCUC"
      },
      "source": [
        "## Importing the dataset\n",
        "We'll use pandas to read the dataset and load it into a dataframe."
      ]
    },
    {
      "cell_type": "code",
      "metadata": {
        "id": "pd-wMpXVmFcu",
        "colab_type": "code",
        "colab": {
          "base_uri": "https://localhost:8080/",
          "height": 34
        },
        "outputId": "0371e825-15c2-4bb0-ff54-bc1b9443aa63"
      },
      "source": [
        "# Make data directory if it doesn't exist\n",
        "!mkdir -p data\n",
        "!unzip -n -d data ./AssignmentData.zip\n"
      ],
      "execution_count": 16,
      "outputs": [
        {
          "output_type": "stream",
          "text": [
            "Archive:  ./AssignmentData.zip\n"
          ],
          "name": "stdout"
        }
      ]
    },
    {
      "cell_type": "code",
      "metadata": {
        "id": "zJ9HwIt6b5O3",
        "colab_type": "code",
        "outputId": "9d758cd9-ea28-43fe-8749-5ebafbf898d2",
        "colab": {
          "base_uri": "https://localhost:8080/",
          "height": 88
        }
      },
      "source": [
        "!ls ./data/AssignmentData/Assigment/AD/"
      ],
      "execution_count": 8,
      "outputs": [
        {
          "output_type": "stream",
          "text": [
            "01.txt\t04.txt\t07.txt\t10.txt\t13.txt\t16.txt\t19.txt\t22.txt\t25.txt\t28.txt\n",
            "02.txt\t05.txt\t08.txt\t11.txt\t14.txt\t17.txt\t20.txt\t23.txt\t26.txt\t29.txt\n",
            "03.txt\t06.txt\t09.txt\t12.txt\t15.txt\t18.txt\t21.txt\t24.txt\t27.txt\t30.txt\n"
          ],
          "name": "stdout"
        }
      ]
    },
    {
      "cell_type": "markdown",
      "metadata": {
        "id": "moMt5EKZjg0u",
        "colab_type": "text"
      },
      "source": [
        "Load data and create dataframe for those tested as AD positive."
      ]
    },
    {
      "cell_type": "code",
      "metadata": {
        "colab_type": "code",
        "id": "9kcSPlnvgCT7",
        "outputId": "90e0299a-a73b-4901-a389-9126e70c3404",
        "colab": {
          "base_uri": "https://localhost:8080/",
          "height": 71
        }
      },
      "source": [
        "import glob\n",
        "import os\n",
        "\n",
        "ad_path = './data/AssignmentData/Assigment/AD'\n",
        "ad_filenames = glob.glob(os.path.join(ad_path, '*.txt'))\n",
        "ad_data = []\n",
        "\n",
        "for fn in ad_filenames:\n",
        "  with open(fn, 'r') as f:\n",
        "    ad_data.append(f.read().splitlines())\n",
        "\n",
        "# See the form of the imported data\n",
        "print(ad_data)\n",
        "# Count the number of words per patient file\n",
        "print([sum([len(s.split(' ')) for s in p]) for p in ad_data])"
      ],
      "execution_count": 17,
      "outputs": [
        {
          "output_type": "stream",
          "text": [
            "[['oh boy .', 'alright .', 'family is in the kitchen .', \"the mother's washing dishes .\", 'and her sink is overflowing .', \"and she's looking out the window .\", \"and the two kids are taking they're stealing cookies off the out_of the cupboard .\", \"and the boy looks like he's gonna  fall down and hurt himself or fall against his mother .\", \"and the girl is whispering “don't make too much noise” to him .\", \"she's &let or else she's laughin at him .\", 'they got the cookies .', \"alright now though the window, let's see .\", \"there's a nice look outside, real nice .\", 'I told you the water was running over and splashing onto the floor .', \"and the mother doesn't seem too too affected by it .\", \"she's dryin a dish or wiping it .\", \"let's see .\", \"I guess the girl is laughing at her brother because he's going to fall .\", 'looks like a nice house .', \"there is a little bit of very little  but I don't think that's meant for this .\", 'the corner that got to the corner .', 'so this is a corner here .', \"and that goes back into there but that's  .\", \"do you see what I'm making reference to ?  \", 'the carpentry ?  \\t', '\\t'], [\"what's happening there ?   \", 'oh my .', 'poor kids .', \"he's gonna  fall off that cookie jar .\", \"we'll start with the girl .\", \"she's going to receive a cookie .\", 'her brother is her brother is taking cookies out of a jar .', 'and he got careless .', \"and she's askin him for one .\", \"so he's handin one down to her .\", 'in the meantime he is gettin ready to fall off of the off of a stool, a three legged stool .', \"and the mother's not payin much attention .\", \"she's lookin out the window .\", \"and in looking out the window why she's lettin her sink run over and the water's splashin on the floor all over her .\", 'and what else ?   ', '&=noises:thinking the outside looks alright .', \"they're doin more things on the outside .\", \"there's some more there .\", \"and then she's dryin  she's drying a dish .\", 'and she has two cups and a plate on the table .', \"they've already eaten  .\", 'she could well I did say she was lettin the  water run over the sink down onto the floor splashing onto her feet .', 'oh boy .', \"then there's an angle here that is incomplete of the  t of the corner where the wall comes together .\", \"let's see what else should there be .\", \"let's see .\", \"the there's a plate two  au two cups .\", \"oh I did say she's lettin the water run over the sink didn't I ?   \", 'yes .', \"and she  to be looking out the window while she's drying her dish .\", 'how about that ?   ', 'does that have enough ?   ', '', '\\t', '\\t', '\\t'], [\"oh little boy's in the cookie jar .\", \"the girl's standin down and waitin for him to give him    some give her some .\", \"the mother's doin the dishes .\", \"and she's also letting him letting    \", 'oh the water just fell off over on the floor .', 'can I turn the page ?   ', 'okay .', \"that's all there is except she's just gettin all wet .\", 'no .', 'the little girl was helpin  the boy to get to the cookie jar .', 'but he started stumblin .', 'he must ha  fell over cause he seems to be falling there .', \"and the mother's over at the sink drying dishes .\", \"and it's goin on the floor .\", 'and three cups three bowls there .\\t', ' '], [\"there's a little girl  reaching for the cookie jar an she can't reach it apparently .\", 'and the the young man is helping her .', \"he's on a stool and he's reaching for the cookie jar .\", 'an an the lady is drying dishes .', 'an the water is pouring outta  the sink for some reason .', \"there's some plates on the  on the counter .\", \"an she's drying a dish .\", 'I may ave said that .', 'an the young man is going to fall off the stool .', 'I guess maybe I said that too .', \"and they're reachin for the cookie jar .\", 'and the an the sink is overflowing .', 'I guess I might ave said that too .', \"an I guess that's about  all the salient things of it.\", ', I can see .', '\\t', '\\t'], [\"here's a cookie jar .\", 'and the lid is off the cookie jar .', 'the boy is about to come down on the floor .', 'and the girl   ', \"I don't know that much about girls .\", 'but anyway  the housewife is in the kitchen .', 'and the   the sink is overflowing .', 'and the girl may be saying say  , I told you so” or something like that .', 'and I guess this must be the wife although it might not be because maybe that was an apron and  maybe this was the    ', 'there is  this  this should be a window .', 'there .', 'the upper one is there .', 'it has a pathway .', \"we don't know where the pathway is going to because we can't see it down below .\", \"and looks like there's some flowers in the bushes or something like that .\", 'and here are some draperies .', 'well this one in on this side is .', \"I don't see it, the other side, but I u suspect it  it would be the same thing there .\", 'and the I guess I said that the  the water was coming down on the floor .', \"and I don't know the   \", 'here are two cup  cup cups for coffee or something like that .', 'and   ', 'and   \\t', '\\t'], [\"first of all the little girl's saying  .\", \"and and he's climbing up to get a cookie .\", \"and he's going to fall .\", 'and the stool is on tipping .', 'the water is running over in the sink .', 'the towel seems to go in one side and out the other side of the dish .', \"oh that's part of the curtain I guess .\", \"that's what it is .\", \"that's part of the curtain  .\", 'it looked like it gone through here and come out here  .', 'ah .', 'two cups and a dish .', \"I don't see anything unusual .\\t\", '\\t'], ['look down to talk to you ?   ', 'the little girl is saying  while the little boy is getting the cookies out o the cookie jar .', \"he already has one and he's just getting some more .\", \"he's gonna  fall off that the  the    \", 'what do you call it ?   ', \"I can't think what you call it .\", 'the    ', 'ah !   ', 'the stool .', 'mother is letting the water run right out o the  the  sink .', \"she's  sink .\", \"it's a summer day or a spring day cause the window's open .\", 'what what all am I supposed to be doing ?   ', \"yeah water and cookies, the girl being quiet so the mother can't hear em .\", \"should I say that it's a  it's a summer day ?   \", \"yeah I guess it's  everything's clean outside .\", 'the trees .', \"there's a house next door .\", \"or it it either it's part of the house or it's another house coming right next door to it .\", 'there are no handles on the  the  under part of this side of the underneath the counter .', \"he he's standing on his own foot on this chair  .\", 'and as I say he was tipping over and the cookies   .', \"and let's see .\", \"and as I say there aren't any knobs on the bottom to open these .\", '', '\\t', '\\t'], ['can I look at it and tell you ?   ', 'oh okay .', \"well there's a girl and a boy and the boy's in the cookie jar .\", \"and he's standing on a stool that's tipping over .\", \"and he's in the kitchen .\", \"and the mother's in the kitchen running the water at the sink .\", \"and the water's running over and it's all over the floor .\", 'and there are curtains at the windows .', 'and there are cups and a plate on the  pantry .', \"and the the outside the window there's a path leading to a garage it looks like .\", 'and there are curtains there .', \"and that's about all there .\\t\", '\\t'], ['alright .', 'I see the little boy stealing cookies from the cookie jar .', \"and the little girl's  he gave some to the little girl and she's eatin some of the cookies .\", \"and I guess this is mama and she's washing the dishes .\", 'and she dropped a dish .', \"no no she didn't drop a dish .\", \"the the water that she's washing the dishes with she let run .\", \"and it's overflown overflown overflown .\", \"that doesn't  that doesn't sound right .\", 'did it ?    ', 'we forgot to turn off the spigot .', 'and so the water is running off into the onto the floor here .', 'and mom apparently is washing the dishes .', \"and here's this little boy stealing the cookie  cookies .\", \"he's gonna gonna  fall because his  the  the cookies jar or the  bench  s the  four legged stool whatever it is is  is gonna  fall over with him  and the cookie jar .\", \"and mama's drying the dishes as usual for mamas  if they don't have a husband that dries them or washes them or whatever .\", \"let's see now .\", \"I guess there's more things I'm supposed to see .\", \"let's see here now .\", \"oh and the the water is  flowing out of the  of the sink they forgot to turn off whoever's doing the    the dish washing .\", 'mom apparently here, she forgot to turn off the water and the  the water is spilling out over the  onto the floor onto the kitchen floor .', 'and the little girl has pushed over the  chair   with the boy that  he that was reaching up to get the cookies .', 'I either he she pushed it over or he fell over with it .', 'you_know it I I excuse me but you_know I I was    ', '\\t', '\\t'], [\"there's a little girl .\", 'and a little boy standin on top of a stool .', 'and it looks like a mother maybe washin the dishes in the kitchen .', \"there's cookies in the jar up in the pantry I suppose .\", \"there's a cup two cups and a saucer or a plate maybe .\", \"there's some shrubs outside .\", 'the the sink is overflowing right now .', \"and that's about all .\", 'the sink is overflowing .', 'the sink is overflowing .', \"he's tryin to kill himself  .\", 'you want more ?   ', \"that's it ?   \", '\\t', '\\t', '\\t'], ['the boy is slipping off the stool .', \"he's trying to steal cookie .\", 'the mother is working at the sink with the water running over .', \"she's the little girl is  saying .\", \"the mother don't hear .\", 'did I tell say the sink was running over ?  ', \"mother's drying the dishes .\", \"I don't see anything else .\\t\", '\\t'], [\"alright .there's  a young boy that's getting a cookie jar .\", \"and it he's  in bad shape because the thing is fallin over .\", \"and in the picture the mother is washin dishes and doesn't see it .\", 'and so is the the water is overflowing in the sink .', \"and the dishes might get falled  over if you don't fell fall over there  there if you don't get it .\", \"and it there it's a picture of a kitchen window .\", 'and the curtains are very  distinct .', 'but the water is low still flowing .'], ['well the kids are  are  in the corner .', \"they're grading   they  they are going to  get   some cookies from the cookie jar .\", \"and the mother does not see it because she's inside   drying the clothes  .\", 'and the kids then just    ', \"and I guess in the  the picture here that  the mother that's working hard and  and the kids were  were playing .\", 'and all of a sudden  somebody  stepped in    turned over a dish .', 'and all over the floor .', 'except that it did  did not dry it up .', \"it didn't splash from the &i it splashed from the sink but not from   from    \", \"no that's no  that's no  .\", \"I'm too too trying to get too much out of it .\", 'and one one of the kids is gonna  get a  crack on the head .', 'and maybe he has     ', 'man !   ', \"this is it's so    \", 'some o the sometimes I  I see it very clear and  and  other times I  I see  .', 'a weak image, so to speak .', 'and sometimes I have I just have this p@o .', \"you're what what is in here now ?   \", \"but mostly is I I have  not  not so much trouble in I it looking at a thing at it as an imarriage but not but not getting anything that you'll want want  .\", 'but an etch you would say it in a little . \\t', '\\t'], ['so she will find her .', 'and  the mother washes dryin the dishes .', \"and the stool's upset .\", \"you_know she's gettin on gettin the cookies .\", \"there's  cup and saucer settin there on a plate ready to eat .\", 'the cookie jar right here .', \"that's all I see.\", 'and h h this  this is   ', \"well whoever's over there spilled it, knocked it down .\", \"I don't know what that is .\", 'looks like a mouse  .', '\\t', '\\t'], ['well I see the mother .', \"what's she doin ?   \", 'pourin the   the faucet down on the floor .', 'she got yeah she got that runnin on the floor .', \"she's wipin the dishes .\", \"and the little boy's gonna  break his neck  tryin to get into the cookie jar .\", \"and the little girl's yellin for more .\", \"they're headin into a disaster  .\", \"well the little boy's gonna  r break his neck there if he doesn't watch out .\", \"now I expect there are a whole lot more that I didn't see .\\t\", '\\t'], ['well you see the little  the little boy stealing cookies .', 'and the under  girl is going to pick em up .', 'I think she is .', 'because he is gonna  take a whole damn fall .', 'and this girl    ', 'you gotta find something here .', 'well the cookie jar is gonna  get smashed .', \"if that little girl don't  .\", 'and the woman is already gettin it  from somethin .', 'what ?   ', \"yeah she's she's in an warm water .\", \"and it's on also .\", 'and over there is cookies off the right  .', \"yeah that's about all I can see .\", '\\t', '\\t', '\\t'], ['go go ?   ', 'mother is washin dishes .', 'the kids are lookin for cookies .', \"the little girl's cryin cause he ain't givin her no cookies .\", 'and he gets the cookies down .', \"and the mother's broke a plate .\", 'fell down .', 'just on this page ?   ', \"that's it .\", 'she broke  broke a plate or somethin .', 'went down the wrong way down there .', 'just gettin the water run over .', 'she let the water run too fast .', 'okay .\\t', '\\t'], ['oh boy .', \"wowie the boy's going up on a cookiejar  to get cookies and he's falling off the jar  and his sister is just wondering about it .\", 'will he hit the bottom ?  ', \"mama has an v a sink that's overrunning with  with  water splashin down onto her shoes .\", \"she's in the process of drying dishes .\", \"she's looking out an open window at the same time .\", 'the cookie jar is open .', 'and the girl has her finger to her lips .', 'well let me see .', \"everything that's going to happen, huh ?   \", \"looking out the window maybe it I don't know if it's  the breeze blowin the curtains because the curtains look a little wee bit h over the  over the window blind over the window they look a little wee bit puffy .\", \"so maybe there's a slight breeze coming in the  in the kitchen window .\", \"mama's drying the dishes and she forgettin herself and the water is overflowing from the sink down onto the floor splashing into her shoes .\", 'alright there are two cups and a plate on the counter to the right of the sink .', 'and  the boy well I did tell you the boy is gettin ready to fall off of the chair   .', 'his sister is reaching up for a cookie, gettin it from the cookie jar .', 'so what else ?   ', 'the the door is open of course to get into the cupboard .', 'doin .', 'three three legged stool .', 'I would venture to say that is it .', '\\t', '\\t'], ['you want me to tell you ?   ', 'the girl is talking to the boy .', \"he's getting the cookie jar down .\", 'he has a &coo cookie in his hand .', \"he's falling off of his stool .\", \"the mother's doing the dishes and the water's running off into the floor  .\", \"she's looking out the window apparently .\", 'I see grass and a lawn at outside .', 'and I see two bowls, cabinets .', 'anything else I  ?     ', 'you want everything I can see ?   ', 'I also see a cabinet drawer door there .', 'remember I said the water was overflowing.', 'oh .', \"there's something inside here .\", 'okay .\\t', '\\t'], ['alright .', 'the little girl  wants cookie .', \"the boy is getting her one but the  stool is going to he's going to fall off the stool .\", \"it's tilty  .\", 'the mother is doing the dishes .', 'and unfortunately the sink is overflowing on the floor  .', \"it's wet .\", 'the little     ', \"oh that's his feet .\", \"I thought there was something around the little boy's foot or at least  at least just one part of one foot  foot  on top of the other .\", \"the little girl I I don't whether she's laughing or asking for the cookie or saying “shh” so mother doesn't hear them  .\", '', '\\t', '\\t'], [\"well the girl is telling the boy to get the cookies down but don't tell your mother .\", 'and the boy is also falling over off the stool .', 'and the mother is letting the water run out of the sink .', \"and she's dryin dishes .\", \"I don't quite get that but then     \", \"she has water on the floor and  and basically it's kind_of  a distressing scene .\", \"everything's goin haywire .\", 'she needs to turn off the water .', \"if she turned off the water she'd be a hundred percent better off .\", '\\t', '\\t', '\\t'], ['well this here is cookie jar .', \"looks like the the boy's pickin up a bunch or something .\", \"he's fallin off the chair  down here or tryin to .\", 'here and down hiss  .', 'she been washin the dishes .', 'she was she left with the dish for  maybe .', 'and this is is that possible ?   ', \"that's a door .\", 'or this is a   ', \"yeah this  water's runnin off of there .\", 'this  this thing here .', \"I don't know what you'd call it .\", 'p she spilt  the water and washed the dishes here .', \"she washes dishes there or what's she doin ?  \", 'that is pickin  pickin something out o that cookie jar for this little girl .', 'bench  is fallin over here for one thing .', \"yeah that's what's the end of the line .\\t\", '\\t'], ['kids are trying to get a     ', \"it's full of  it's full of  mistakes .\", \"it's full o mistakes .\", \"it's full of mistakes .\", \"he's changin   taking cookie jar .\", \"that's all .\", \"the mother's just drying the dishes .\", 'from the from  .', 'this is     ', '\\t', '\\t', ' '], [\"okay he's fallin off a chair  .\", \"she's running the water over .\", \"can't see anything else .\", 'no .', 'okay .', \"she's she's step in the water .\", 'no .\\t', '\\t'], ['alright .', 'gonna start here .', 'the boys have opened the the boy has opened the into the cookie &ca  where the cookies are .', \"and in the meantime he's they almost the thing is falling down .\", 'the little boy the girl was being shh@o quiet .', 'mother has the water is running over in the kitchen .', 'mother is wiping the dishes the dish and dishes .', \"it's she doesn't seem to think it's even know what's going on .\", \"it's I would say summer .\", 'that looks like things are growing up .', \"there she's looking out the window .\", \"she's standing in the water .\", 'cookies .', \"they've taken cookies out of the cookie jar .\", \"she's keeping quiet .\", 'the things break, falling over .', \"it's summer .\", \"I_mean it looks like it's summer .\", \"it's things are coming up .\", \"mother doesn't seem to care what's going on with the kids  .\", 'there are two cups but only one  one  dish .', \"I think did I say they'd turned off the water they hadn't the water's still running .\", 'that was all .', \"I guess that's it .\", '\\t', '\\t'], [\"well the kid the girl's laughin at her brother because he went into the cookie jar and he's fallin over the cookie jar .\", \"and mother's &d the mother was at the sink .\", \"and the sink's [: water's] splashin   splashin over the sink .\", 'and she sort_o a little bit bitchy .', \"and the water's goin floodin over the sink .\", \"and there's a saucer, there's a plate, there's a couple of dishes .\", \"well she's and the mother's lookin out the window .\", \"she don't know what the hell to think of it .\", \"a girl laughin at her brother who is taking cookies out of the cookie jar and he's ready to fall off the damn &plat off the   off the   &pl chair  he's on .\", \"the chair's crooked .\", 'what the hell else ?   ', \"and then there's a plate, saucer and two cups .\", \"she's looking out the window .\", \"the window's open .\", \"she's not paying any attention to the kids .\", \"the water's flooding over the sink .\", 'what else you want ?    \\t', '\\t'], ['oh .', 'oh great  .', 'oh the boy is taking cookies .', \"and he's also going to fall off his stepstool .\", \"his is I gather it's his sister is reaching for the cookies .\", 'the mother is  drying the dishes and obviously  has her mind', 'and she is also standing in some in water .', \"I don't know .\", \"that's that's it .\", \"I didn't hear  what he said then because it's too it's    \", 'that is all that I can see here .', '\\t'], [\"there's a young boy going in a cookie jar .\", \"and there's a a girl young girl .\", \"and I'm sayin he's a boy cause you can &hard it's hardly hard to tell anymore .\", \"and he's  he's in the cookie jar .\", \"and there's a  stool that he is on and it already is starting to fall over .\", 'and so is the water in the sink  is &ev overflowing in the sink .', \"I I don't know about the this hickey here I whether that's more than what I said .\", 'like it the wife or  I_mean  the  the mother is near the girl .', \"and she's she has   has.\", \"oh I I can't think of the   \", \"she has the she's tryin to wipe   wipe dishes .\", 'oh and stop the water from going out .', '\\t', '\\t', '\\t'], ['a lady  a lady and her children .', 'children .', 'the lady is wash washin dishes .', 'and   ', 'okay .', 'yeah .', 'the children have cookies .', \"the father isn't comin .\", \"father didn't come in yet .\", 'and the lady is gettin it ready .', 'get   ', \"it's a water with that .\", 'water went down .', \"it's gonna  fall over .\", '\\t', '\\t'], ['the boy reaching for the cookies is gonna  fall down on the  what do you call it .', \"she's saying  I think  .\", 'but give me a cookie too .', 'mother is wiping the dish .', 'sink is running over .', 'the    ', \"I'm to tell everything I see ?   \", 'all the action yeah .', 'splashing the water .', 'well  and the girl saying .', 'give me a cookie too .', \"that's all I see .\", '', '\\t', '\\t', '\\t']]\n",
            "[223, 304, 138, 145, 245, 107, 265, 121, 338, 106, 64, 102, 300, 87, 105, 120, 93, 286, 125, 125, 105, 157, 65, 33, 200, 194, 93, 154, 72, 91]\n"
          ],
          "name": "stdout"
        }
      ]
    },
    {
      "cell_type": "markdown",
      "metadata": {
        "colab_type": "text",
        "id": "QHopFMSigCT5"
      },
      "source": [
        "All the above passages are within the 512 Bert input limit. Which is good as we can use Bert easily."
      ]
    },
    {
      "cell_type": "code",
      "metadata": {
        "id": "nN5NlCWFkIRa",
        "colab_type": "code",
        "colab": {
          "base_uri": "https://localhost:8080/",
          "height": 1000
        },
        "outputId": "c3501b8b-6e97-44ba-e56f-443dd47d3145"
      },
      "source": [
        "import pandas as pd\n",
        "\n",
        "ad_data_concat = [(\" \").join(s) for s in ad_data]\n",
        "print(ad_data_concat)\n",
        "\n",
        "ad_df = pd.DataFrame(ad_data_concat, columns=['text'])\n",
        "ad_df['label'] = pd.Series([1 for x in range(len(ad_df.index))], index=ad_df.index)\n",
        "ad_df"
      ],
      "execution_count": 23,
      "outputs": [
        {
          "output_type": "stream",
          "text": [
            "[\"oh boy . alright . family is in the kitchen . the mother's washing dishes . and her sink is overflowing . and she's looking out the window . and the two kids are taking they're stealing cookies off the out_of the cupboard . and the boy looks like he's gonna  fall down and hurt himself or fall against his mother . and the girl is whispering “don't make too much noise” to him . she's &let or else she's laughin at him . they got the cookies . alright now though the window, let's see . there's a nice look outside, real nice . I told you the water was running over and splashing onto the floor . and the mother doesn't seem too too affected by it . she's dryin a dish or wiping it . let's see . I guess the girl is laughing at her brother because he's going to fall . looks like a nice house . there is a little bit of very little  but I don't think that's meant for this . the corner that got to the corner . so this is a corner here . and that goes back into there but that's  . do you see what I'm making reference to ?   the carpentry ?  \\t \\t\", \"what's happening there ?    oh my . poor kids . he's gonna  fall off that cookie jar . we'll start with the girl . she's going to receive a cookie . her brother is her brother is taking cookies out of a jar . and he got careless . and she's askin him for one . so he's handin one down to her . in the meantime he is gettin ready to fall off of the off of a stool, a three legged stool . and the mother's not payin much attention . she's lookin out the window . and in looking out the window why she's lettin her sink run over and the water's splashin on the floor all over her . and what else ?    &=noises:thinking the outside looks alright . they're doin more things on the outside . there's some more there . and then she's dryin  she's drying a dish . and she has two cups and a plate on the table . they've already eaten  . she could well I did say she was lettin the  water run over the sink down onto the floor splashing onto her feet . oh boy . then there's an angle here that is incomplete of the  t of the corner where the wall comes together . let's see what else should there be . let's see . the there's a plate two  au two cups . oh I did say she's lettin the water run over the sink didn't I ?    yes . and she  to be looking out the window while she's drying her dish . how about that ?    does that have enough ?     \\t \\t \\t\", \"oh little boy's in the cookie jar . the girl's standin down and waitin for him to give him    some give her some . the mother's doin the dishes . and she's also letting him letting     oh the water just fell off over on the floor . can I turn the page ?    okay . that's all there is except she's just gettin all wet . no . the little girl was helpin  the boy to get to the cookie jar . but he started stumblin . he must ha  fell over cause he seems to be falling there . and the mother's over at the sink drying dishes . and it's goin on the floor . and three cups three bowls there .\\t  \", \"there's a little girl  reaching for the cookie jar an she can't reach it apparently . and the the young man is helping her . he's on a stool and he's reaching for the cookie jar . an an the lady is drying dishes . an the water is pouring outta  the sink for some reason . there's some plates on the  on the counter . an she's drying a dish . I may ave said that . an the young man is going to fall off the stool . I guess maybe I said that too . and they're reachin for the cookie jar . and the an the sink is overflowing . I guess I might ave said that too . an I guess that's about  all the salient things of it. , I can see . \\t \\t\", \"here's a cookie jar . and the lid is off the cookie jar . the boy is about to come down on the floor . and the girl    I don't know that much about girls . but anyway  the housewife is in the kitchen . and the   the sink is overflowing . and the girl may be saying say  , I told you so” or something like that . and I guess this must be the wife although it might not be because maybe that was an apron and  maybe this was the     there is  this  this should be a window . there . the upper one is there . it has a pathway . we don't know where the pathway is going to because we can't see it down below . and looks like there's some flowers in the bushes or something like that . and here are some draperies . well this one in on this side is . I don't see it, the other side, but I u suspect it  it would be the same thing there . and the I guess I said that the  the water was coming down on the floor . and I don't know the    here are two cup  cup cups for coffee or something like that . and    and   \\t \\t\", \"first of all the little girl's saying  . and and he's climbing up to get a cookie . and he's going to fall . and the stool is on tipping . the water is running over in the sink . the towel seems to go in one side and out the other side of the dish . oh that's part of the curtain I guess . that's what it is . that's part of the curtain  . it looked like it gone through here and come out here  . ah . two cups and a dish . I don't see anything unusual .\\t \\t\", \"look down to talk to you ?    the little girl is saying  while the little boy is getting the cookies out o the cookie jar . he already has one and he's just getting some more . he's gonna  fall off that the  the     what do you call it ?    I can't think what you call it . the     ah !    the stool . mother is letting the water run right out o the  the  sink . she's  sink . it's a summer day or a spring day cause the window's open . what what all am I supposed to be doing ?    yeah water and cookies, the girl being quiet so the mother can't hear em . should I say that it's a  it's a summer day ?    yeah I guess it's  everything's clean outside . the trees . there's a house next door . or it it either it's part of the house or it's another house coming right next door to it . there are no handles on the  the  under part of this side of the underneath the counter . he he's standing on his own foot on this chair  . and as I say he was tipping over and the cookies   . and let's see . and as I say there aren't any knobs on the bottom to open these .  \\t \\t\", \"can I look at it and tell you ?    oh okay . well there's a girl and a boy and the boy's in the cookie jar . and he's standing on a stool that's tipping over . and he's in the kitchen . and the mother's in the kitchen running the water at the sink . and the water's running over and it's all over the floor . and there are curtains at the windows . and there are cups and a plate on the  pantry . and the the outside the window there's a path leading to a garage it looks like . and there are curtains there . and that's about all there .\\t \\t\", \"alright . I see the little boy stealing cookies from the cookie jar . and the little girl's  he gave some to the little girl and she's eatin some of the cookies . and I guess this is mama and she's washing the dishes . and she dropped a dish . no no she didn't drop a dish . the the water that she's washing the dishes with she let run . and it's overflown overflown overflown . that doesn't  that doesn't sound right . did it ?     we forgot to turn off the spigot . and so the water is running off into the onto the floor here . and mom apparently is washing the dishes . and here's this little boy stealing the cookie  cookies . he's gonna gonna  fall because his  the  the cookies jar or the  bench  s the  four legged stool whatever it is is  is gonna  fall over with him  and the cookie jar . and mama's drying the dishes as usual for mamas  if they don't have a husband that dries them or washes them or whatever . let's see now . I guess there's more things I'm supposed to see . let's see here now . oh and the the water is  flowing out of the  of the sink they forgot to turn off whoever's doing the    the dish washing . mom apparently here, she forgot to turn off the water and the  the water is spilling out over the  onto the floor onto the kitchen floor . and the little girl has pushed over the  chair   with the boy that  he that was reaching up to get the cookies . I either he she pushed it over or he fell over with it . you_know it I I excuse me but you_know I I was     \\t \\t\", \"there's a little girl . and a little boy standin on top of a stool . and it looks like a mother maybe washin the dishes in the kitchen . there's cookies in the jar up in the pantry I suppose . there's a cup two cups and a saucer or a plate maybe . there's some shrubs outside . the the sink is overflowing right now . and that's about all . the sink is overflowing . the sink is overflowing . he's tryin to kill himself  . you want more ?    that's it ?    \\t \\t \\t\", \"the boy is slipping off the stool . he's trying to steal cookie . the mother is working at the sink with the water running over . she's the little girl is  saying . the mother don't hear . did I tell say the sink was running over ?   mother's drying the dishes . I don't see anything else .\\t \\t\", \"alright .there's  a young boy that's getting a cookie jar . and it he's  in bad shape because the thing is fallin over . and in the picture the mother is washin dishes and doesn't see it . and so is the the water is overflowing in the sink . and the dishes might get falled  over if you don't fell fall over there  there if you don't get it . and it there it's a picture of a kitchen window . and the curtains are very  distinct . but the water is low still flowing .\", \"well the kids are  are  in the corner . they're grading   they  they are going to  get   some cookies from the cookie jar . and the mother does not see it because she's inside   drying the clothes  . and the kids then just     and I guess in the  the picture here that  the mother that's working hard and  and the kids were  were playing . and all of a sudden  somebody  stepped in    turned over a dish . and all over the floor . except that it did  did not dry it up . it didn't splash from the &i it splashed from the sink but not from   from     no that's no  that's no  . I'm too too trying to get too much out of it . and one one of the kids is gonna  get a  crack on the head . and maybe he has      man !    this is it's so     some o the sometimes I  I see it very clear and  and  other times I  I see  . a weak image, so to speak . and sometimes I have I just have this p@o . you're what what is in here now ?    but mostly is I I have  not  not so much trouble in I it looking at a thing at it as an imarriage but not but not getting anything that you'll want want  . but an etch you would say it in a little . \\t \\t\", \"so she will find her . and  the mother washes dryin the dishes . and the stool's upset . you_know she's gettin on gettin the cookies . there's  cup and saucer settin there on a plate ready to eat . the cookie jar right here . that's all I see. and h h this  this is    well whoever's over there spilled it, knocked it down . I don't know what that is . looks like a mouse  . \\t \\t\", \"well I see the mother . what's she doin ?    pourin the   the faucet down on the floor . she got yeah she got that runnin on the floor . she's wipin the dishes . and the little boy's gonna  break his neck  tryin to get into the cookie jar . and the little girl's yellin for more . they're headin into a disaster  . well the little boy's gonna  r break his neck there if he doesn't watch out . now I expect there are a whole lot more that I didn't see .\\t \\t\", \"well you see the little  the little boy stealing cookies . and the under  girl is going to pick em up . I think she is . because he is gonna  take a whole damn fall . and this girl     you gotta find something here . well the cookie jar is gonna  get smashed . if that little girl don't  . and the woman is already gettin it  from somethin . what ?    yeah she's she's in an warm water . and it's on also . and over there is cookies off the right  . yeah that's about all I can see . \\t \\t \\t\", \"go go ?    mother is washin dishes . the kids are lookin for cookies . the little girl's cryin cause he ain't givin her no cookies . and he gets the cookies down . and the mother's broke a plate . fell down . just on this page ?    that's it . she broke  broke a plate or somethin . went down the wrong way down there . just gettin the water run over . she let the water run too fast . okay .\\t \\t\", \"oh boy . wowie the boy's going up on a cookiejar  to get cookies and he's falling off the jar  and his sister is just wondering about it . will he hit the bottom ?   mama has an v a sink that's overrunning with  with  water splashin down onto her shoes . she's in the process of drying dishes . she's looking out an open window at the same time . the cookie jar is open . and the girl has her finger to her lips . well let me see . everything that's going to happen, huh ?    looking out the window maybe it I don't know if it's  the breeze blowin the curtains because the curtains look a little wee bit h over the  over the window blind over the window they look a little wee bit puffy . so maybe there's a slight breeze coming in the  in the kitchen window . mama's drying the dishes and she forgettin herself and the water is overflowing from the sink down onto the floor splashing into her shoes . alright there are two cups and a plate on the counter to the right of the sink . and  the boy well I did tell you the boy is gettin ready to fall off of the chair   . his sister is reaching up for a cookie, gettin it from the cookie jar . so what else ?    the the door is open of course to get into the cupboard . doin . three three legged stool . I would venture to say that is it . \\t \\t\", \"you want me to tell you ?    the girl is talking to the boy . he's getting the cookie jar down . he has a &coo cookie in his hand . he's falling off of his stool . the mother's doing the dishes and the water's running off into the floor  . she's looking out the window apparently . I see grass and a lawn at outside . and I see two bowls, cabinets . anything else I  ?      you want everything I can see ?    I also see a cabinet drawer door there . remember I said the water was overflowing. oh . there's something inside here . okay .\\t \\t\", \"alright . the little girl  wants cookie . the boy is getting her one but the  stool is going to he's going to fall off the stool . it's tilty  . the mother is doing the dishes . and unfortunately the sink is overflowing on the floor  . it's wet . the little      oh that's his feet . I thought there was something around the little boy's foot or at least  at least just one part of one foot  foot  on top of the other . the little girl I I don't whether she's laughing or asking for the cookie or saying “shh” so mother doesn't hear them  .  \\t \\t\", \"well the girl is telling the boy to get the cookies down but don't tell your mother . and the boy is also falling over off the stool . and the mother is letting the water run out of the sink . and she's dryin dishes . I don't quite get that but then      she has water on the floor and  and basically it's kind_of  a distressing scene . everything's goin haywire . she needs to turn off the water . if she turned off the water she'd be a hundred percent better off . \\t \\t \\t\", \"well this here is cookie jar . looks like the the boy's pickin up a bunch or something . he's fallin off the chair  down here or tryin to . here and down hiss  . she been washin the dishes . she was she left with the dish for  maybe . and this is is that possible ?    that's a door . or this is a    yeah this  water's runnin off of there . this  this thing here . I don't know what you'd call it . p she spilt  the water and washed the dishes here . she washes dishes there or what's she doin ?   that is pickin  pickin something out o that cookie jar for this little girl . bench  is fallin over here for one thing . yeah that's what's the end of the line .\\t \\t\", \"kids are trying to get a      it's full of  it's full of  mistakes . it's full o mistakes . it's full of mistakes . he's changin   taking cookie jar . that's all . the mother's just drying the dishes . from the from  . this is      \\t \\t  \", \"okay he's fallin off a chair  . she's running the water over . can't see anything else . no . okay . she's she's step in the water . no .\\t \\t\", \"alright . gonna start here . the boys have opened the the boy has opened the into the cookie &ca  where the cookies are . and in the meantime he's they almost the thing is falling down . the little boy the girl was being shh@o quiet . mother has the water is running over in the kitchen . mother is wiping the dishes the dish and dishes . it's she doesn't seem to think it's even know what's going on . it's I would say summer . that looks like things are growing up . there she's looking out the window . she's standing in the water . cookies . they've taken cookies out of the cookie jar . she's keeping quiet . the things break, falling over . it's summer . I_mean it looks like it's summer . it's things are coming up . mother doesn't seem to care what's going on with the kids  . there are two cups but only one  one  dish . I think did I say they'd turned off the water they hadn't the water's still running . that was all . I guess that's it . \\t \\t\", \"well the kid the girl's laughin at her brother because he went into the cookie jar and he's fallin over the cookie jar . and mother's &d the mother was at the sink . and the sink's [: water's] splashin   splashin over the sink . and she sort_o a little bit bitchy . and the water's goin floodin over the sink . and there's a saucer, there's a plate, there's a couple of dishes . well she's and the mother's lookin out the window . she don't know what the hell to think of it . a girl laughin at her brother who is taking cookies out of the cookie jar and he's ready to fall off the damn &plat off the   off the   &pl chair  he's on . the chair's crooked . what the hell else ?    and then there's a plate, saucer and two cups . she's looking out the window . the window's open . she's not paying any attention to the kids . the water's flooding over the sink . what else you want ?    \\t \\t\", \"oh . oh great  . oh the boy is taking cookies . and he's also going to fall off his stepstool . his is I gather it's his sister is reaching for the cookies . the mother is  drying the dishes and obviously  has her mind and she is also standing in some in water . I don't know . that's that's it . I didn't hear  what he said then because it's too it's     that is all that I can see here . \\t\", \"there's a young boy going in a cookie jar . and there's a a girl young girl . and I'm sayin he's a boy cause you can &hard it's hardly hard to tell anymore . and he's  he's in the cookie jar . and there's a  stool that he is on and it already is starting to fall over . and so is the water in the sink  is &ev overflowing in the sink . I I don't know about the this hickey here I whether that's more than what I said . like it the wife or  I_mean  the  the mother is near the girl . and she's she has   has. oh I I can't think of the    she has the she's tryin to wipe   wipe dishes . oh and stop the water from going out . \\t \\t \\t\", \"a lady  a lady and her children . children . the lady is wash washin dishes . and    okay . yeah . the children have cookies . the father isn't comin . father didn't come in yet . and the lady is gettin it ready . get    it's a water with that . water went down . it's gonna  fall over . \\t \\t\", \"the boy reaching for the cookies is gonna  fall down on the  what do you call it . she's saying  I think  . but give me a cookie too . mother is wiping the dish . sink is running over . the     I'm to tell everything I see ?    all the action yeah . splashing the water . well  and the girl saying . give me a cookie too . that's all I see .  \\t \\t \\t\"]\n"
          ],
          "name": "stdout"
        },
        {
          "output_type": "execute_result",
          "data": {
            "text/html": [
              "<div>\n",
              "<style scoped>\n",
              "    .dataframe tbody tr th:only-of-type {\n",
              "        vertical-align: middle;\n",
              "    }\n",
              "\n",
              "    .dataframe tbody tr th {\n",
              "        vertical-align: top;\n",
              "    }\n",
              "\n",
              "    .dataframe thead th {\n",
              "        text-align: right;\n",
              "    }\n",
              "</style>\n",
              "<table border=\"1\" class=\"dataframe\">\n",
              "  <thead>\n",
              "    <tr style=\"text-align: right;\">\n",
              "      <th></th>\n",
              "      <th>text</th>\n",
              "      <th>label</th>\n",
              "    </tr>\n",
              "  </thead>\n",
              "  <tbody>\n",
              "    <tr>\n",
              "      <th>0</th>\n",
              "      <td>oh boy . alright . family is in the kitchen . ...</td>\n",
              "      <td>1</td>\n",
              "    </tr>\n",
              "    <tr>\n",
              "      <th>1</th>\n",
              "      <td>what's happening there ?    oh my . poor kids ...</td>\n",
              "      <td>1</td>\n",
              "    </tr>\n",
              "    <tr>\n",
              "      <th>2</th>\n",
              "      <td>oh little boy's in the cookie jar . the girl's...</td>\n",
              "      <td>1</td>\n",
              "    </tr>\n",
              "    <tr>\n",
              "      <th>3</th>\n",
              "      <td>there's a little girl  reaching for the cookie...</td>\n",
              "      <td>1</td>\n",
              "    </tr>\n",
              "    <tr>\n",
              "      <th>4</th>\n",
              "      <td>here's a cookie jar . and the lid is off the c...</td>\n",
              "      <td>1</td>\n",
              "    </tr>\n",
              "    <tr>\n",
              "      <th>5</th>\n",
              "      <td>first of all the little girl's saying  . and a...</td>\n",
              "      <td>1</td>\n",
              "    </tr>\n",
              "    <tr>\n",
              "      <th>6</th>\n",
              "      <td>look down to talk to you ?    the little girl ...</td>\n",
              "      <td>1</td>\n",
              "    </tr>\n",
              "    <tr>\n",
              "      <th>7</th>\n",
              "      <td>can I look at it and tell you ?    oh okay . w...</td>\n",
              "      <td>1</td>\n",
              "    </tr>\n",
              "    <tr>\n",
              "      <th>8</th>\n",
              "      <td>alright . I see the little boy stealing cookie...</td>\n",
              "      <td>1</td>\n",
              "    </tr>\n",
              "    <tr>\n",
              "      <th>9</th>\n",
              "      <td>there's a little girl . and a little boy stand...</td>\n",
              "      <td>1</td>\n",
              "    </tr>\n",
              "    <tr>\n",
              "      <th>10</th>\n",
              "      <td>the boy is slipping off the stool . he's tryin...</td>\n",
              "      <td>1</td>\n",
              "    </tr>\n",
              "    <tr>\n",
              "      <th>11</th>\n",
              "      <td>alright .there's  a young boy that's getting a...</td>\n",
              "      <td>1</td>\n",
              "    </tr>\n",
              "    <tr>\n",
              "      <th>12</th>\n",
              "      <td>well the kids are  are  in the corner . they'r...</td>\n",
              "      <td>1</td>\n",
              "    </tr>\n",
              "    <tr>\n",
              "      <th>13</th>\n",
              "      <td>so she will find her . and  the mother washes ...</td>\n",
              "      <td>1</td>\n",
              "    </tr>\n",
              "    <tr>\n",
              "      <th>14</th>\n",
              "      <td>well I see the mother . what's she doin ?    p...</td>\n",
              "      <td>1</td>\n",
              "    </tr>\n",
              "    <tr>\n",
              "      <th>15</th>\n",
              "      <td>well you see the little  the little boy steali...</td>\n",
              "      <td>1</td>\n",
              "    </tr>\n",
              "    <tr>\n",
              "      <th>16</th>\n",
              "      <td>go go ?    mother is washin dishes . the kids ...</td>\n",
              "      <td>1</td>\n",
              "    </tr>\n",
              "    <tr>\n",
              "      <th>17</th>\n",
              "      <td>oh boy . wowie the boy's going up on a cookiej...</td>\n",
              "      <td>1</td>\n",
              "    </tr>\n",
              "    <tr>\n",
              "      <th>18</th>\n",
              "      <td>you want me to tell you ?    the girl is talki...</td>\n",
              "      <td>1</td>\n",
              "    </tr>\n",
              "    <tr>\n",
              "      <th>19</th>\n",
              "      <td>alright . the little girl  wants cookie . the ...</td>\n",
              "      <td>1</td>\n",
              "    </tr>\n",
              "    <tr>\n",
              "      <th>20</th>\n",
              "      <td>well the girl is telling the boy to get the co...</td>\n",
              "      <td>1</td>\n",
              "    </tr>\n",
              "    <tr>\n",
              "      <th>21</th>\n",
              "      <td>well this here is cookie jar . looks like the ...</td>\n",
              "      <td>1</td>\n",
              "    </tr>\n",
              "    <tr>\n",
              "      <th>22</th>\n",
              "      <td>kids are trying to get a      it's full of  it...</td>\n",
              "      <td>1</td>\n",
              "    </tr>\n",
              "    <tr>\n",
              "      <th>23</th>\n",
              "      <td>okay he's fallin off a chair  . she's running ...</td>\n",
              "      <td>1</td>\n",
              "    </tr>\n",
              "    <tr>\n",
              "      <th>24</th>\n",
              "      <td>alright . gonna start here . the boys have ope...</td>\n",
              "      <td>1</td>\n",
              "    </tr>\n",
              "    <tr>\n",
              "      <th>25</th>\n",
              "      <td>well the kid the girl's laughin at her brother...</td>\n",
              "      <td>1</td>\n",
              "    </tr>\n",
              "    <tr>\n",
              "      <th>26</th>\n",
              "      <td>oh . oh great  . oh the boy is taking cookies ...</td>\n",
              "      <td>1</td>\n",
              "    </tr>\n",
              "    <tr>\n",
              "      <th>27</th>\n",
              "      <td>there's a young boy going in a cookie jar . an...</td>\n",
              "      <td>1</td>\n",
              "    </tr>\n",
              "    <tr>\n",
              "      <th>28</th>\n",
              "      <td>a lady  a lady and her children . children . t...</td>\n",
              "      <td>1</td>\n",
              "    </tr>\n",
              "    <tr>\n",
              "      <th>29</th>\n",
              "      <td>the boy reaching for the cookies is gonna  fal...</td>\n",
              "      <td>1</td>\n",
              "    </tr>\n",
              "  </tbody>\n",
              "</table>\n",
              "</div>"
            ],
            "text/plain": [
              "                                                 text  label\n",
              "0   oh boy . alright . family is in the kitchen . ...      1\n",
              "1   what's happening there ?    oh my . poor kids ...      1\n",
              "2   oh little boy's in the cookie jar . the girl's...      1\n",
              "3   there's a little girl  reaching for the cookie...      1\n",
              "4   here's a cookie jar . and the lid is off the c...      1\n",
              "5   first of all the little girl's saying  . and a...      1\n",
              "6   look down to talk to you ?    the little girl ...      1\n",
              "7   can I look at it and tell you ?    oh okay . w...      1\n",
              "8   alright . I see the little boy stealing cookie...      1\n",
              "9   there's a little girl . and a little boy stand...      1\n",
              "10  the boy is slipping off the stool . he's tryin...      1\n",
              "11  alright .there's  a young boy that's getting a...      1\n",
              "12  well the kids are  are  in the corner . they'r...      1\n",
              "13  so she will find her . and  the mother washes ...      1\n",
              "14  well I see the mother . what's she doin ?    p...      1\n",
              "15  well you see the little  the little boy steali...      1\n",
              "16  go go ?    mother is washin dishes . the kids ...      1\n",
              "17  oh boy . wowie the boy's going up on a cookiej...      1\n",
              "18  you want me to tell you ?    the girl is talki...      1\n",
              "19  alright . the little girl  wants cookie . the ...      1\n",
              "20  well the girl is telling the boy to get the co...      1\n",
              "21  well this here is cookie jar . looks like the ...      1\n",
              "22  kids are trying to get a      it's full of  it...      1\n",
              "23  okay he's fallin off a chair  . she's running ...      1\n",
              "24  alright . gonna start here . the boys have ope...      1\n",
              "25  well the kid the girl's laughin at her brother...      1\n",
              "26  oh . oh great  . oh the boy is taking cookies ...      1\n",
              "27  there's a young boy going in a cookie jar . an...      1\n",
              "28  a lady  a lady and her children . children . t...      1\n",
              "29  the boy reaching for the cookies is gonna  fal...      1"
            ]
          },
          "metadata": {
            "tags": []
          },
          "execution_count": 23
        }
      ]
    },
    {
      "cell_type": "markdown",
      "metadata": {
        "id": "US9OZoMq_u2L",
        "colab_type": "text"
      },
      "source": [
        "Let's do the same for the negative samples with label 0 this time."
      ]
    },
    {
      "cell_type": "code",
      "metadata": {
        "colab_type": "code",
        "outputId": "c15c1cd2-3d82-41ff-e509-92c0362f4924",
        "id": "B0bGGQnh_sPx",
        "colab": {
          "base_uri": "https://localhost:8080/",
          "height": 71
        }
      },
      "source": [
        "import glob\n",
        "import os\n",
        "\n",
        "nc_path = './data/AssignmentData/Assigment/NC'\n",
        "nc_filenames = glob.glob(os.path.join(nc_path, '*.txt'))\n",
        "nc_data = []\n",
        "\n",
        "for fn in nc_filenames:\n",
        "  with open(fn, 'r') as f:\n",
        "    nc_data.append(f.read().splitlines())\n",
        "\n",
        "# See the form of the imported data\n",
        "print(nc_data)\n",
        "# Count the number of words per patient file\n",
        "print([sum([len(s.split(' ')) for s in p]) for p in nc_data])"
      ],
      "execution_count": 20,
      "outputs": [
        {
          "output_type": "stream",
          "text": [
            "[['a boy is getting cookies out of the cookie jar . ', \"he's standing on a stool that's gonna fall . \", 'the girl is reaching for a cookie . ', \"the mother's drying dishes . \", \"the faucet's running water . \", \"it's dripping out of the sink . \", 'spilling onto the floor . ', 'dishes are on the counter . ', 'window is open .', 'must be summertime . ', 'the girl is laughing . ', \"looks like she's laughing . \", \"that's about it . \"], [\"the boy's getting cookies out o  the cookie jar . \", \"he's handing one to a girl . \", \"the the stool he's standing on is falling . \", \"the lady's drying dishes . \", 'the sink is running over . ', \"the water's turned on full . \", 'cups are sitting on the counter, plates sitting on the counter . ', \"puddle of water's on the floor . \", 'little girl is sayin  . ', \"don't tell anybody  . \", \"and the cookie jar looks like it's ready to fall out . \", 'and the cookie jar is full, clear full . ', \"that's about all I see that's goin  on .\", '', ' '], ['oh goody . ', \"that boy's climbed on a stool that's falling over to get a cookie . \", 'and the little girl is standin below him tryin to get the cookie from his hand . ', \"and the mother is washing dishes while the water's runnin over in the sink on the floor .\", \"and the sun's shining  . \", \"there's two cups and this plate on the counter . \", 'and maybe the mother is drying a plate . ', \"that's all I see . \"], ['are you ready ?', 'well the sink is overflowing .', 'mother is standing in the water like a jerk .', \"she's wiping the dishes also like a jerk .\", \"there    the  the  the boy is trying to get a cookie out of the cookie jar but boy he's about to fall off the stool .\", \"his sister    has her    finger up to her mouth like she's saying /.\", 'to be quiet . ', \"don't let mother know what you're doin . \", \"and he's about to hand her a cookie . \", \"but  in a few moments it's going to be like total catastrophe . \", \"mother  the reason the water's flowing out over the sink is because the water is running furiously .\", \"and I'm looking out through the window . \", \"and I don't see anything going on out there . \", \"unless  &m I don't .\", \"that's just a bush I'm presuming or a plum pudding .\", 'I told you the stools about to go over .', \"in a moment there's going to be real chaos which will make what's going on in the picture look like nothing .\", 'the cookie jar is full .', 'the lid is off the cookie jar . ', 'and the . ', 'do you want me to tell you all of those things ? ', 'the the cabinet door has just swung open .', 'stool is about to fall . ', \"I guess I've just told you that . \", 'with a terrible crash . ', 'mother is daydreaming . ', \"she doesn't even know what's going on behind her .\", \"I think that's very important and sometimes typical . \", 'seems to be all I can see .', ''], ['a boy and a girl are in the kitchen with their mother . ', \"and the little boy is getting a cookie for the little girl but he's on a stool it's about to fall down . \", 'the mother is washing dishes . ', \"and she's obviously thinking of something else because the water's pouring out over the sink . \\t\", \"she's finished with some of the dishes .\", 'it seems to be summertime because there are bushes . ', 'the window is open .', 'there seems to be some kind of a breeze because the curtains on the sill there blowing .', 'must be fairly hot . ', \"the mother's in a sleeveless dress .\\t\", 'the children are in  in short sleeve  tops and have sandals .', 'the little boy has tennis shoes on .', 'the mother obviously is unaware of what the children are doing . ', \"she's going to be aware of it very shortly .  \", 'I mean how much more do you want ?  ', 'hm okay . ', ''], [\"the boy is on a stool that is falling while he's trying to get some cookies out of the cookie jar in the top shelf of the cupboard . \", 'the little girl is reaching for a cookie . ', \"it looks like she's sort of laughing at the boy or putting her finger up to her mouth to be quiet so her mother doesn't hear who is in the kitchen drying dishes but the water in the sink is overflowing onto the floor and she's stepping in the water . \", 'the window is open . ', \"looks like it's summer outside . \", \"yeah there's trees with leaves . \", 'is that all you want me to do ? ', \"she's  doesn't look it's like she hears them . \", \"she doesn't seem to be aware of them . \", 'some of the dishes are already washed and dried . ', 'is that all you want me to say ? ', ''], ['boy  taking cookies out of a cookie jar . ', 'the stool is falling . ', 'the little girl is reaching . ', 'water is running out o  the faucet . ', 'the water is overflowing the sink . ', 'woman is drying dishes .  ', \"there's nothing to indicate and I don't see any more action . \"], ['well the kids are in the kitchen with their mother takin  cookies out o  the cookie jar . ', \"a boy's handin  it to the girl . \", \"and the boy's on a stool and he's tripping   over .\", \"he's gonna fall on the floor . \", \"the mother's standing there doing the dishes . \", \"she's washing the dishes looking out the open window . \", \"and the water's runnin down over the sink on  on the floor getting her feet wet . \", \"and she's dryin  a dish . \", 'and there are a couple o  dishes sitting on the &k kitchen counter  . ', \"and looking out the window it's probably in the spring or summer of the year .\", '', '', '', '', '\\t ', '', ''], ['further right . ', \"oh there's a little girl reaching  \", \"oh let's say the little boy's reaching for the cookie in the jar . \", 'and the stool is falling over . ', \"the little girl's reaching up to the little boy for the cookie . \", 'and the mother apparently is washing the dishes and the water is running over . ', \"she's probably busy looking out     at the garden . \", 'and the cups and the saucer are on the side . ', 'what else do you want ? ', 'things that I see ? ', 'you mean, curtains ? ', \"&mm no I think that's about it .\", ' \\t '], ['alright ?', \"mother's doing the dishes . \", 'the sink is overflowing . ', 'the stool is falling . ', 'the boy is going for the cookies . ', \"she's reaching out for him . \", \"the mother's looking out the window . \", 'sink is overflowing . ', \"let's see . \", 'they use the sink . ', 'the boy reaching down to give her the cookie . ', \"I think that's it . \", ' '], ['okay .', 'it was summertime and mother and the children were working in the kitchen . ', 'and the window was open and there was a slight breeze blowing in . ', 'mother was daydreaming and forgot and left the water in the sink running and it was overflowing .', 'the children were hungry and because they knew mother was distracted doing the &di dishes they did something they probably should  not have done . ', 'and they got the kitchen stool and moved it under the cupboard where the cookie jar was . ', 'and the young boy climbed up to get a cookie . ', \"because he did not place his weight correctly on the stool he's about to fall and probably hurt himself (be)cause  his head's gonna [: going to] hit the kitchen cupboards . \", 'it looks like the house is set in the country . ', \"and it's a large house but &e either that or you're seeing another house or the a wing of the house . \", \"there's grass growing a little path . \", 'mother looks pretty laid back there  .', '', '', ' ', ''], ['the scene is  in the kitchen . ', 'the mother is wiping dishes and the water is running on the floor . ', \"a child is tryin  to get  a boy is tryin to get cookies outta   a jar and he's about to tip over on a stool . \", 'the little girl is reacting to his falling .', 'it seems to be summer out . ', 'the window is open . ', 'the curtains are blowing . ', 'it must be a gentle breeze . ', \"there's grass outside in the garden .\", \"uh mother's finished certain of the  the dishes . \", \"kitchen's very tidy . \", 'the mother seems to have nothing in the house to eat except cookies in the cookie jar . ', 'uh the children look to be almost about the same size . ', \"perhaps they're twins . \", \"they're dressed for summer warm weather .\", 'you want more ?  ', \"the mother's in a short sleeve dress . \", \"I'll have to say it's warm .\", '', '', '\\t '], [\"this is the one where I insisted the tree doesn't have a trunk and I still think that tree doesn't have a trunk . \", 'okay what do you want me to do ?  ', 'tell a  ? ', 'this is a tree and it  &d if it had a trunk it would continue . ', \"this is the top sash of the window and it has to have a trunk down here and that's just grass . \", 'so what ? ', \"well what's this ?\", \"isn't that a tree ? \", 'looks like a tree to me . ', 'okay what do you want me to ? ', 'all the action ? ', 'okay . ', \"there's a little boy in short pants with short sleeves who (i)s  has a cookie in his left hand handing it to a little girl and grabbing another one . \", 'and the lid is falling off the cookie jar . ', 'and the stool is upsetting . ', \"and it's a three legged stool . \", 'and the little girl is shushing because the mother is standing there in a puddle of water with the water overflowing out of the  drain . ', \"and she's wiping a dish instead of the mess . \", \"and she's wearing an apron and she has on sleeveless clothes . \", \"I don't know . \", 'I could go on .  ', \"there are two cups and a plate and she's drying another plate . \", \"and she has short hair that's parted on the left hand side . \", 'and the little boy has a high pompadour . ', 'and the little girl has long hair and a long  low waisted dress . ', 'how long should I go on ? '], ['okay . ', 'mother is drying the dishes but the water is going out over the sink onto the floor . ', \"it's a pretty day outside . \", 'lots of flowers . ', 'there are three dishes left   to wash   dry I guess . ', \"she's standing in the water . \", 'looks dangerous . ', 'the children   are getting into the cookie jar . ', \"the boy's up there on the stool . \", \"and that's almost falling over . \", \"he's got one cookie in his hand . \", \"he's handing it to the little girl . \", \"and he's getting another one out of the cookie jar cupboard . \", 'did you say action that is going on ?', 'the little girl is   kinda   has her hand up to her mouth . ', \"looks like she's trying to eat it or be quiet or she's laughing   . \", \"the mother doesn't seem to be paying much attention . \", \"she looks like she's looking out the window . \", 'the water is splashing onto the floor . ', \"that's it . \", ''], ['okay .', \"there's a little boy and    he's standing on a stool that's upsetting . \", \"and he's getting a cookie and he's sharing a cookie with the little girl who is shushing her mother with her finger and reaching for the cookie at the same time . \", 'on the   ', 'what are the instructions ? ', 'just give as many details like ? ', 'action .', 'or or . ', 'oh okay . ', 'the cupboard door is open . ', 'the stool is crooked . ', 'the water is splashing on the floor . ', 'the &m  mother is     is stepping in it . ', \"she's drying her dishes . \", 'the  sink is overflowing . ', 'the cups and the saucers are there . ', 'the window is open and you see the lawn outside . ', 'and it must be summertime . ', 'they all have on hor short sleeves . ', \"and  she's wearing an apron . \", 'okay .', ' '], ['okay start ? ', 'okay a little boy is getting a cookie out of the cookie jar . ', \"he's standing on a stool . \", \"it's tipped over and he's handing    his  another little girl a cookie . \", \"and the little girl is saying ssh because they don't want their\", 'mother to see . ', 'and the mother is wiping a dish . ', 'and she has the water  water running   in her faucet which is overflowing the sink and splashing on the floor . ', \"and she's stepping in a puddle . \", \"and she's wearing an apron . \", 'and   outside is the yard with the path . ', 'and there are two cups on the table . ', \"and she's wearing an apern  . \", \"and  I guess that's it then . \", \"she's a  has short sleeves . \", 'there are curtains on the windows . ', 'the cupboard door is open . ', \"there's a handle    on three of the cupboard doors but not on the rest . \", \"that's crazy . \", 'okay . '], ['alright .', \"a little girl is reaching for the    cookie that the boy's reaching for the cookie to give to her while   the  stool is being tipped . \", 'the mother is drying the dish while the water is running out of the spigot . ', \"let's see . \", 'action   . ', 'no birds, geese . ', \"it's all I can see . \", \"that's fine . \", ''], [\"somebody's getting cookies out of the cookie jar, standing on a stool . \", \"the stool's gonna   tip over .\", \"and the girl's saying .\", \"shh don't let somebody hear .\", \"and the mother's drying dishes .\", \"the water's running out into the floor .\", 'cups and plates are sitting on the counter .', 'you can look out the window and see the shrubbery .', \"the lid's sideways from the cookie jar .\", 'the door is open on the cabinet .', \"mother apparently doesn't really notice well enough  .\", 'curtains are hanging on the window .', 'the window is open . ', '', ' ', '', '', ''], ['I see a little boy on a stool trying to reach the cookie jar . ', \"he's got one in his hand that to his little sister . \", 'and the stool is falling over tipping . ', 'and ss mama is standin  by the sink washin  dishes . ', \"and the water's running over on the floor . \", 'and outside you can see the walk and the shrubbery . ', \"and there's some dishes setting on the counter . \", \"and that's all I see .\", '  '], [\"mother's washing dishes . \", 'the sink is overflowing . ', \"the boy's falling off a chair  as he's getting for the cookie . \", \"girl's reaching up for the cookie . \", 'I did say the water is running down . ', \"the mother's looking out the window . \", 'dishes of course are on the sink . ', \"think that's about it .\", ' ', ' '], [\"well there's a mother standing there washing the dishes an the sink is overspilling   .\", \"an  the window's open .\", \"and outside the window there's a   curved walk with a garden .\", 'and you can see another building there .', 'looks like a garage or something with curtains and the grass in the garden .', 'and there are dishes   two cups and a saucer on the sink .', \"and she's getting her feet wet from the overflow of the water from the sink .\", 'she seems to be oblivious to the fact that the  sink is overflowing .', \"she's also oblivious to the fact that her kids are stealin cookies out o the cookie jar .\", 'and the kid on the stool is gonna  fall off the stool .', \"he's standing up there in the cupboard takin cookies out o  the jar, handin them to his  a girl about the same age .\", 'the kids are somewhere around seven or eight years old or nine .', 'an the mother is gonna  get shocked <when the>  when the  he tumbles and the cookie jar comes down .', \"an I think that's about all .\", '', '', ' ', ''], ['okay .', \"a little boy is stepping on a ladder   that's cockeyed . \", \"and it isn't a ladder it's a stool .\", \"and it's a a three legged stool . \", \"and he's getting cookies out_of a jar .  \", \"and he's handing a cookie to the little girl who's saying   to the mother . \", 'and the mother is   wiping dishes with water running all over the kitchen floor .', 'and  oh god . ', \"oh she's  she has an open window . \", ' and there are bushes in front of the  window either in the house next door or some place else . ', \"and then there's a tree that doesn't have a trunk  . \", 'and. ', 'there are two cups and the handles are in opposite directions . ', \"and she's sort of dumb  cause she doesn't turn off the water .  \", \"she's letting it run on her feet . \", \"and half of the kitchen cupboard doors don't have handles . \", \"I don't think  . \", \"and she's wiping the  dish with two towels . \", \"and she isn't watching her dear darling children fall off the stool . \", \"okay isn't that about enough ? \"], [\"oh for god's sakes . \", 'the lady is wiping dishes . ', 'the sink is overflowing . ', 'the  boy is  getting a cookie . ', \"he's handing another one to the little girl . \", \"the little girl is  shushing whatever you call that  the boy  cause evidently they're stealing  em . \", 'and   sneaking them is a better word . ', \"and  they're   you said happening . \", 'a verb .', 'it has to be movement . ', 'and just   including identifying things ? ', 'the lady is standing in a puddle   of water . ', 'and the faucet is running . ', 'and  the window is open . ', \"and there's a house next door, with curtains at the window, the same kind of curtains as hers . \", \"and there's a tree in the next yard . \", \"it almost looks like it doesn't have a trunk . \", \"it doesn't start in the ground it starts in the air . \", \"there's a shrub between the two yards . \", 'there are two cups on the counter, one plate  . ', 'the stool is crooked . ', \"she's   he's gonna  fall over    and   it's a tripod stool that is falling over, not very steady . \", \"the cupboards don't have handles except one door . \", 'and the bottom ones do and the ones on the left have a different kind o(f) handle . ', 'and  can I quit pretty soon ? ', '', ''], ['wait till I put my glasses on .', \"oh there's a girl   reachin  for a cookie . \", 'a boy is up standing on a stool . ', \"he's fallin(g) off a stool .\", \"he's got his hand in the cookie jar . \", 'girl has her hand up to her mouth . ', 'the mother is washing dishes . ', 'the stink   sink is overflowing . ', 'the window is open &=clears throat .', \"she's drying the dishes . \", \"the water's all over the floor . \", \"she's getting her feet wet . \", 'looks like the breeze is blowin  in . ', \"and there's some dirty dishes on the counter . \", ''], ['everything I see in action or everything I  ? ', 'in action or  ? ', 'in action .   ', 'the little girl is trying to get a cookie from the little boy who is on a stool reaching up too high and is just about to have an accident . ', 'stool is gonna   tip over on him .  ', \"the supposed mother is drying dishes and not paying attention to what she's doing . \", 'and the  water in the sink is running over onto the floor making another hazardous condition . ', 'the window seems to be open . ', \"that's it .\", 'all this activity took place in the kitchen . '], [\"the little girl's sayin . \", \"don't tell my mother . \", \"she's reaching for a cookie . \", \"the boy's getting cookies out o  the cookie jar . \", 'the lid fell off the cookie jar . ', \"the stool's ready to fall . \", \"it's slanted . \", \"the lady's drying dishes . \", \"water's running out of the sink . \", 'faucets are running . ', 'dishes are sitting on the counter . ', \"the window's open . \", \"water's goin ) on the floor . \", 'the lady has her back to the kids . ', 'looks like the drapes are blowin  in the wind . ', \"that's about all there is isn't it ?\", ' \\t '], ['okay .', \"the mother's washing the dishes and the sink is overflowing . \", \"she has some of them  dried already on the side as she's looking out the window while the little boy is falling off the stool  cause he's getting into the cookie jar to give to his little sister who's reaching up to get the cookie also . \", \"there's water all over the floor . \", \"there's the garden is outside and the mother's not paying any attention to what they do .\", 'the stool is tipping . ', 'the door is open . ', 'there may be a little breeze coming in because the   this window is open . ', 'the little girl s has her finger to her mouth  . ', \"we won't tell mother while you give me the cookie . \", \"it's in the kitchen of course and two cups and a dish already have been dried . \", \"and  the mother's stepping in the water and she's probably so engrossed in what she's doing outside she neither knows what the children are doing nor is she paying any attention that the water's overflowing . \", '', ' '], ['oh I see the sink is running over .  ', 'I see the stool is tipping over .  ', \"little boy's trying to get cookies out .  \", 'the girl is reaching to get a cookie .  ', 'the mother is drying dishes .  ', \"the window's open .  \", \"that's what she's washing   oh she's drying dishes now .  \", \"she's standing in the water . \", 'the cupboard door is open .   ', \"there's a cookie jar .  \", \"the brother's leaning against the cookie jar .  \", 'curtains on the window .  ', \"there's some grass and some shrubbery outside the house next door .  \", 'kitchen cabinets .  ', 'oh I see three people in there, a mother and little boy and a girl . '], [\"well the little boy's on a   trying to reach the cookie jar and he's falling . \", 'and the girl is reachin  for a cookie he has in his hand . ', \"the mama's washin  dishes and the sink's running over and she's drying a plate . \", 'and the sink is runnin  over down on the floor . ', 'the window is up . ', 'and is that  all ? ', 'you want something else ? ', \"oh well there's a plate and two cups on the counter . \", 'is that enough ?', 'I mean is that  ? ', \"I   I don't see anything  .\"], ['a boy is getting a cookie out of a cookie jar in a high shelf in a very precarious position on a stool . ', 'looks dangerous . ', \"the mother is washing dishes and not paying attention to what she's doing . \", 'the  sink is overflowing . ', \"there's a nice peaceful sign   outside . \", \"fortunately there's nothing happening out there . \", \"the there's dishes on the  counter in the sink . \", \"that's it . \", \"well except that there's a boy and a girl and the mother . \", 'the other woman .  ', 'but I did mention that . ', 'I said the boy was getting a cookie for the girl and the mother was washing dishes . ']]\n",
            "[90, 120, 89, 303, 180, 165, 62, 140, 120, 78, 197, 185, 305, 199, 180, 198, 78, 111, 93, 70, 212, 221, 277, 122, 123, 124, 203, 146, 117, 131]\n"
          ],
          "name": "stdout"
        }
      ]
    },
    {
      "cell_type": "code",
      "metadata": {
        "colab_type": "code",
        "id": "BrtU2iToALJz",
        "colab": {}
      },
      "source": [
        "import pandas as pd\n",
        "\n",
        "nc_data_concat = [(\" \").join(s) for s in nc_data]\n",
        "print(nc_data_concat)\n",
        "\n",
        "nc_df = pd.DataFrame(nc_data_concat, columns=['text'])\n",
        "nc_df['label'] = pd.Series([0 for x in range(len(nc_df.index))], index=nc_df.index)\n",
        "nc_df"
      ],
      "execution_count": 0,
      "outputs": []
    },
    {
      "cell_type": "code",
      "metadata": {
        "colab_type": "code",
        "id": "-VNFRoULgCT0",
        "colab": {}
      },
      "source": [
        "batch_1 = ad_df.append(nc_df, ignore_index=True)"
      ],
      "execution_count": 0,
      "outputs": []
    },
    {
      "cell_type": "markdown",
      "metadata": {
        "colab_type": "text",
        "id": "mPdgyehhgCTy"
      },
      "source": [
        "We can ask pandas how many sentences are labeled as \"positive\" (value 1) and how many are labeled \"negative\" (having the value 0)"
      ]
    },
    {
      "cell_type": "code",
      "metadata": {
        "colab_type": "code",
        "outputId": "b326309d-565f-4dc2-c68b-4a55b38d6a4e",
        "id": "5EzgqfVOgCTs",
        "colab": {
          "base_uri": "https://localhost:8080/",
          "height": 68
        }
      },
      "source": [
        "batch_1['label'].value_counts()"
      ],
      "execution_count": 30,
      "outputs": [
        {
          "output_type": "execute_result",
          "data": {
            "text/plain": [
              "1    30\n",
              "0    30\n",
              "Name: label, dtype: int64"
            ]
          },
          "metadata": {
            "tags": []
          },
          "execution_count": 30
        }
      ]
    },
    {
      "cell_type": "markdown",
      "metadata": {
        "colab_type": "text",
        "id": "meNgXuvqgCTq"
      },
      "source": [
        "## Loading the Pre-trained BERT model\n",
        "Let's now load a pre-trained BERT model. "
      ]
    },
    {
      "cell_type": "code",
      "metadata": {
        "colab_type": "code",
        "outputId": "e4f3b422-2184-4a73-8356-5e2096ccdd28",
        "id": "IYnZavPCgCTk",
        "colab": {
          "base_uri": "https://localhost:8080/",
          "height": 164,
          "referenced_widgets": [
            "ae76753485d4476a9c3e45d1eafff3e0",
            "69891a56516a4b8da857c1dfd3dfc108",
            "dd42dbcd604d419291df1bf22ac780ae",
            "6ac527a0cc964eeda664c413977e9be1",
            "63d0bc56232d4b60b7d417dcd40988a4",
            "9f49646c30b9435fb97dd718c14d6e50",
            "c257d181473c4bac80d6a477a226b715",
            "08374b1ddc0e49c89d15cb8706dc44be",
            "46aab3adf1fe4b29a67dd7c3a2510936",
            "730951b0665c4351a8c6ea90cc920222",
            "36ff95f18e9845af98f80435c6f7ff33",
            "3d426fed81c84e97af4a0e468c387d82",
            "4ed82c627db6425c937611968fd73321",
            "5cf51a8751d2474482d3f9d5d323f226",
            "34ec65d95a944e9cbc141004d80035fa",
            "f037181761474dab8bf06040f556bfbc",
            "2c04fab4dbe546b993aa601a4382169f",
            "b17875957d854245aec23730fd46b168",
            "2bd5bb3397074280aea2a0c17902a33a",
            "2efc747c0ab1419e9a78919cb085456e",
            "eb3429c52d5640918b5b649b4353c388",
            "4d09b5745e254f07a7f938a3fc5c474b",
            "7882a14e00be48adb3dae130f675f771",
            "6a014957c2ef4fbba33531b88d2e3d1d"
          ]
        }
      },
      "source": [
        "# For DistilBERT:\n",
        "model_class, tokenizer_class, pretrained_weights = (ppb.DistilBertModel, ppb.DistilBertTokenizer, 'distilbert-base-uncased')\n",
        "\n",
        "## Want BERT instead of distilBERT? Uncomment the following line:\n",
        "#model_class, tokenizer_class, pretrained_weights = (ppb.BertModel, ppb.BertTokenizer, 'bert-base-uncased')\n",
        "\n",
        "# Load pretrained model/tokenizer\n",
        "tokenizer = tokenizer_class.from_pretrained(pretrained_weights)\n",
        "model = model_class.from_pretrained(pretrained_weights)"
      ],
      "execution_count": 31,
      "outputs": [
        {
          "output_type": "display_data",
          "data": {
            "application/vnd.jupyter.widget-view+json": {
              "model_id": "ae76753485d4476a9c3e45d1eafff3e0",
              "version_minor": 0,
              "version_major": 2
            },
            "text/plain": [
              "HBox(children=(IntProgress(value=0, description='Downloading', max=231508, style=ProgressStyle(description_wid…"
            ]
          },
          "metadata": {
            "tags": []
          }
        },
        {
          "output_type": "stream",
          "text": [
            "\n"
          ],
          "name": "stdout"
        },
        {
          "output_type": "display_data",
          "data": {
            "application/vnd.jupyter.widget-view+json": {
              "model_id": "46aab3adf1fe4b29a67dd7c3a2510936",
              "version_minor": 0,
              "version_major": 2
            },
            "text/plain": [
              "HBox(children=(IntProgress(value=0, description='Downloading', max=546, style=ProgressStyle(description_width=…"
            ]
          },
          "metadata": {
            "tags": []
          }
        },
        {
          "output_type": "stream",
          "text": [
            "\n"
          ],
          "name": "stdout"
        },
        {
          "output_type": "display_data",
          "data": {
            "application/vnd.jupyter.widget-view+json": {
              "model_id": "2c04fab4dbe546b993aa601a4382169f",
              "version_minor": 0,
              "version_major": 2
            },
            "text/plain": [
              "HBox(children=(IntProgress(value=0, description='Downloading', max=267967963, style=ProgressStyle(description_…"
            ]
          },
          "metadata": {
            "tags": []
          }
        },
        {
          "output_type": "stream",
          "text": [
            "\n"
          ],
          "name": "stdout"
        }
      ]
    },
    {
      "cell_type": "markdown",
      "metadata": {
        "colab_type": "text",
        "id": "P3lzO5epgCTi"
      },
      "source": [
        "Right now, the variable `model` holds a pretrained distilBERT model -- a version of BERT that is smaller, but much faster and requiring a lot less memory.\n",
        "\n",
        "## Model #1: Preparing the Dataset\n",
        "Before we can hand our sentences to BERT, we need to so some minimal processing to put them in the format it requires.\n",
        "\n",
        "### Tokenization\n",
        "Our first step is to tokenize the sentences -- break them up into word and subwords in the format BERT is comfortable with."
      ]
    },
    {
      "cell_type": "code",
      "metadata": {
        "colab_type": "code",
        "id": "8msRmcu7gCTa",
        "colab": {}
      },
      "source": [
        "tokenized = batch_1['text'].apply((lambda x: tokenizer.encode(x, add_special_tokens=True)))"
      ],
      "execution_count": 0,
      "outputs": []
    },
    {
      "cell_type": "markdown",
      "metadata": {
        "colab_type": "text",
        "id": "a7EYkdufgCTY"
      },
      "source": [
        "<img src=\"https://jalammar.github.io/images/distilBERT/bert-distilbert-tokenization-2-token-ids.png\" />\n",
        "\n",
        "### Padding\n",
        "After tokenization, `tokenized` is a list of sentences -- each sentences is represented as a list of tokens. We want BERT to process our examples all at once (as one batch). It's just faster that way. For that reason, we need to pad all lists to the same size, so we can represent the input as one 2-d array, rather than a list of lists (of different lengths)."
      ]
    },
    {
      "cell_type": "code",
      "metadata": {
        "colab_type": "code",
        "id": "om30g15ygCTR",
        "colab": {}
      },
      "source": [
        "max_len = 0\n",
        "for i in tokenized.values:\n",
        "    if len(i) > max_len:\n",
        "        max_len = len(i)\n",
        "\n",
        "padded = np.array([i + [0]*(max_len-len(i)) for i in tokenized.values])"
      ],
      "execution_count": 0,
      "outputs": []
    },
    {
      "cell_type": "markdown",
      "metadata": {
        "colab_type": "text",
        "id": "huxZkb_tgCTP"
      },
      "source": [
        "Our dataset is now in the `padded` variable, we can view its dimensions below:"
      ]
    },
    {
      "cell_type": "code",
      "metadata": {
        "colab_type": "code",
        "outputId": "be786022-e84f-4e28-8531-0143af2347bc",
        "id": "KGYOCZXTgCTJ",
        "colab": {
          "base_uri": "https://localhost:8080/",
          "height": 34
        }
      },
      "source": [
        "np.array(padded).shape"
      ],
      "execution_count": 0,
      "outputs": [
        {
          "output_type": "execute_result",
          "data": {
            "text/plain": [
              "(2000, 59)"
            ]
          },
          "metadata": {
            "tags": []
          },
          "execution_count": 9
        }
      ]
    },
    {
      "cell_type": "markdown",
      "metadata": {
        "colab_type": "text",
        "id": "vXqWL794gCTH"
      },
      "source": [
        "### Masking\n",
        "If we directly send `padded` to BERT, that would slightly confuse it. We need to create another variable to tell it to ignore (mask) the padding we've added when it's processing its input. That's what attention_mask is:"
      ]
    },
    {
      "cell_type": "code",
      "metadata": {
        "colab_type": "code",
        "outputId": "d03b0a9b-1f6e-4e32-831e-b04f5389e57c",
        "id": "YghcLZ6HgCTB",
        "colab": {
          "base_uri": "https://localhost:8080/",
          "height": 34
        }
      },
      "source": [
        "attention_mask = np.where(padded != 0, 1, 0)\n",
        "attention_mask.shape"
      ],
      "execution_count": 0,
      "outputs": [
        {
          "output_type": "execute_result",
          "data": {
            "text/plain": [
              "(2000, 59)"
            ]
          },
          "metadata": {
            "tags": []
          },
          "execution_count": 10
        }
      ]
    },
    {
      "cell_type": "markdown",
      "metadata": {
        "colab_type": "text",
        "id": "OVvPfk9ggCTA"
      },
      "source": [
        "## Model #1: And Now, Deep Learning!\n",
        "Now that we have our model and inputs ready, let's run our model!\n",
        "\n",
        "<img src=\"http://127.0.0.1:4000/images/distilBERT/bert-distilbert-tutorial-sentence-embedding.png\" />\n",
        "\n",
        "The `model()` function runs our sentences through BERT. The results of the processing will be returned into `last_hidden_states`."
      ]
    },
    {
      "cell_type": "code",
      "metadata": {
        "colab_type": "code",
        "id": "tx7E8CTqgCS5",
        "colab": {}
      },
      "source": [
        "input_ids = torch.tensor(padded)  \n",
        "attention_mask = torch.tensor(attention_mask)\n",
        "\n",
        "with torch.no_grad():\n",
        "    last_hidden_states = model(input_ids, attention_mask=attention_mask)"
      ],
      "execution_count": 0,
      "outputs": []
    },
    {
      "cell_type": "markdown",
      "metadata": {
        "colab_type": "text",
        "id": "V-PjwP4OgCS3"
      },
      "source": [
        "Let's slice only the part of the output that we need. That is the output corresponding the first token of each sentence. The way BERT does sentence classification, is that it adds a token called `[CLS]` (for classification) at the beginning of every sentence. The output corresponding to that token can be thought of as an embedding for the entire sentence.\n",
        "\n",
        "<img src=\"https://jalammar.github.io/images/distilBERT/bert-output-tensor-selection.png\" />\n",
        "\n",
        "We'll save those in the `features` variable, as they'll serve as the features to our logitics regression model."
      ]
    },
    {
      "cell_type": "code",
      "metadata": {
        "colab_type": "code",
        "id": "uzNbPNFMgCSw",
        "colab": {}
      },
      "source": [
        "features = last_hidden_states[0][:,0,:].numpy()"
      ],
      "execution_count": 0,
      "outputs": []
    },
    {
      "cell_type": "markdown",
      "metadata": {
        "colab_type": "text",
        "id": "2vfqUR47gCSu"
      },
      "source": [
        "The labels indicating which sentence is positive and negative now go into the `labels` variable"
      ]
    },
    {
      "cell_type": "code",
      "metadata": {
        "colab_type": "code",
        "id": "Lr2-3TdSgCSn",
        "colab": {}
      },
      "source": [
        "labels = batch_1[1]"
      ],
      "execution_count": 0,
      "outputs": []
    },
    {
      "cell_type": "markdown",
      "metadata": {
        "colab_type": "text",
        "id": "JKvSBrk4gCSl"
      },
      "source": [
        "## Model #2: Train/Test Split\n",
        "Let's now split our datset into a training set and testing set (even though we're using 2,000 sentences from the SST2 training set)."
      ]
    },
    {
      "cell_type": "code",
      "metadata": {
        "colab_type": "code",
        "id": "Fwybze0agCSf",
        "colab": {}
      },
      "source": [
        "train_features, test_features, train_labels, test_labels = train_test_split(features, labels)"
      ],
      "execution_count": 0,
      "outputs": []
    },
    {
      "cell_type": "markdown",
      "metadata": {
        "colab_type": "text",
        "id": "fKnwGJBmgCSd"
      },
      "source": [
        "<img src=\"http://127.0.0.1:4000/images/distilBERT/bert-distilbert-train-test-split-sentence-embedding.png\" />\n",
        "\n",
        "### [Bonus] Grid Search for Parameters\n",
        "We can dive into Logistic regression directly with the Scikit Learn default parameters, but sometimes it's worth searching for the best value of the C parameter, which determines regularization strength."
      ]
    },
    {
      "cell_type": "code",
      "metadata": {
        "colab_type": "code",
        "id": "IwsaKV9igCSW",
        "colab": {}
      },
      "source": [
        "# parameters = {'C': np.linspace(0.0001, 100, 20)}\n",
        "# grid_search = GridSearchCV(LogisticRegression(), parameters)\n",
        "# grid_search.fit(train_features, train_labels)\n",
        "\n",
        "# print('best parameters: ', grid_search.best_params_)\n",
        "# print('best scrores: ', grid_search.best_score_)"
      ],
      "execution_count": 0,
      "outputs": []
    },
    {
      "cell_type": "markdown",
      "metadata": {
        "colab_type": "text",
        "id": "xKmPVaTUgCSU"
      },
      "source": [
        "We now train the LogisticRegression model. If you've chosen to do the gridsearch, you can plug the value of C into the model declaration (e.g. `LogisticRegression(C=5.2)`)."
      ]
    },
    {
      "cell_type": "code",
      "metadata": {
        "colab_type": "code",
        "outputId": "9252ceff-a7d0-4359-fef9-2f72be89c7d6",
        "id": "g8Hps4PYgCSK",
        "colab": {
          "base_uri": "https://localhost:8080/",
          "height": 102
        }
      },
      "source": [
        "lr_clf = LogisticRegression()\n",
        "lr_clf.fit(train_features, train_labels)"
      ],
      "execution_count": 0,
      "outputs": [
        {
          "output_type": "execute_result",
          "data": {
            "text/plain": [
              "LogisticRegression(C=1.0, class_weight=None, dual=False, fit_intercept=True,\n",
              "                   intercept_scaling=1, l1_ratio=None, max_iter=100,\n",
              "                   multi_class='warn', n_jobs=None, penalty='l2',\n",
              "                   random_state=None, solver='warn', tol=0.0001, verbose=0,\n",
              "                   warm_start=False)"
            ]
          },
          "metadata": {
            "tags": []
          },
          "execution_count": 21
        }
      ]
    },
    {
      "cell_type": "markdown",
      "metadata": {
        "colab_type": "text",
        "id": "i500IhYOgCSE"
      },
      "source": [
        "<img src=\"http://127.0.0.1:4000/images/distilBERT/bert-training-logistic-regression.png\" />\n",
        "\n",
        "## Evaluating Model #2\n",
        "So how well does our model do in classifying sentences? One way is to check the accuracy against the testing dataset:"
      ]
    },
    {
      "cell_type": "code",
      "metadata": {
        "colab_type": "code",
        "outputId": "cfd86dea-5d16-476c-ab9b-47cbee3a014f",
        "id": "YyASo9_ogCRw",
        "colab": {
          "base_uri": "https://localhost:8080/",
          "height": 34
        }
      },
      "source": [
        "lr_clf.score(test_features, test_labels)"
      ],
      "execution_count": 0,
      "outputs": [
        {
          "output_type": "execute_result",
          "data": {
            "text/plain": [
              "0.824"
            ]
          },
          "metadata": {
            "tags": []
          },
          "execution_count": 22
        }
      ]
    },
    {
      "cell_type": "markdown",
      "metadata": {
        "colab_type": "text",
        "id": "0KuG9GBVgCRp"
      },
      "source": [
        "How good is this score? What can we compare it against? Let's first look at a dummy classifier:"
      ]
    },
    {
      "cell_type": "code",
      "metadata": {
        "colab_type": "code",
        "outputId": "0042aed2-4fa8-4fa0-bf25-fdef70a10aac",
        "id": "en9G4EYTgCRV",
        "colab": {
          "base_uri": "https://localhost:8080/",
          "height": 34
        }
      },
      "source": [
        "from sklearn.dummy import DummyClassifier\n",
        "clf = DummyClassifier()\n",
        "\n",
        "scores = cross_val_score(clf, train_features, train_labels)\n",
        "print(\"Dummy classifier score: %0.3f (+/- %0.2f)\" % (scores.mean(), scores.std() * 2))"
      ],
      "execution_count": 0,
      "outputs": [
        {
          "output_type": "stream",
          "text": [
            "Dummy classifier score: 0.527 (+/- 0.05)\n"
          ],
          "name": "stdout"
        }
      ]
    },
    {
      "cell_type": "markdown",
      "metadata": {
        "colab_type": "text",
        "id": "VNOQxRQhgCRR"
      },
      "source": [
        "So our model clearly does better than a dummy classifier. But how does it compare against the best models?\n",
        "\n",
        "## Proper SST2 scores\n",
        "For reference, the [highest accuracy score](http://nlpprogress.com/english/sentiment_analysis.html) for this dataset is currently **96.8**. DistilBERT can be trained to improve its score on this task – a process called **fine-tuning** which updates BERT’s weights to make it achieve a better performance in this sentence classification task (which we can call the downstream task). The fine-tuned DistilBERT turns out to achieve an accuracy score of **90.7**. The full size BERT model achieves **94.9**.\n",
        "\n",
        "\n",
        "\n",
        "And that’s it! That’s a good first contact with BERT. The next step would be to head over to the documentation and try your hand at [fine-tuning](https://huggingface.co/transformers/examples.html#glue). You can also go back and switch from distilBERT to BERT and see how that works."
      ]
    },
    {
      "cell_type": "code",
      "metadata": {
        "colab_type": "code",
        "id": "fE0a1pW0gCRA",
        "colab": {}
      },
      "source": [
        ""
      ],
      "execution_count": 0,
      "outputs": []
    }
  ]
}